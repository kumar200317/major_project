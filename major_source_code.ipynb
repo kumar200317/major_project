{
  "cells": [
    {
      "cell_type": "markdown",
      "metadata": {
        "id": "view-in-github",
        "colab_type": "text"
      },
      "source": [
        "<a href=\"https://colab.research.google.com/github/kumar200317/major_project/blob/main/major_source_code.ipynb\" target=\"_parent\"><img src=\"https://colab.research.google.com/assets/colab-badge.svg\" alt=\"Open In Colab\"/></a>"
      ]
    },
    {
      "cell_type": "code",
      "execution_count": null,
      "metadata": {
        "id": "e3cXTHPOvGM4"
      },
      "outputs": [],
      "source": [
        "!pip install opencv-python"
      ]
    },
    {
      "cell_type": "code",
      "source": [
        "pip install rembg"
      ],
      "metadata": {
        "id": "BzdlQd3EQgat",
        "colab": {
          "base_uri": "https://localhost:8080/"
        },
        "outputId": "5904dd17-18d5-41ac-bdc5-8e4cdba90a8f"
      },
      "execution_count": null,
      "outputs": [
        {
          "output_type": "stream",
          "name": "stdout",
          "text": [
            "Collecting rembg\n",
            "  Downloading rembg-2.0.56-py3-none-any.whl (32 kB)\n",
            "Requirement already satisfied: jsonschema in /usr/local/lib/python3.10/dist-packages (from rembg) (4.19.2)\n",
            "Requirement already satisfied: numpy in /usr/local/lib/python3.10/dist-packages (from rembg) (1.25.2)\n",
            "Collecting onnxruntime (from rembg)\n",
            "  Downloading onnxruntime-1.17.3-cp310-cp310-manylinux_2_27_x86_64.manylinux_2_28_x86_64.whl (6.8 MB)\n",
            "\u001b[2K     \u001b[90m━━━━━━━━━━━━━━━━━━━━━━━━━━━━━━━━━━━━━━━━\u001b[0m \u001b[32m6.8/6.8 MB\u001b[0m \u001b[31m24.0 MB/s\u001b[0m eta \u001b[36m0:00:00\u001b[0m\n",
            "\u001b[?25hRequirement already satisfied: opencv-python-headless in /usr/local/lib/python3.10/dist-packages (from rembg) (4.9.0.80)\n",
            "Requirement already satisfied: pillow in /usr/local/lib/python3.10/dist-packages (from rembg) (9.4.0)\n",
            "Requirement already satisfied: pooch in /usr/local/lib/python3.10/dist-packages (from rembg) (1.8.1)\n",
            "Collecting pymatting (from rembg)\n",
            "  Downloading PyMatting-1.1.12-py3-none-any.whl (52 kB)\n",
            "\u001b[2K     \u001b[90m━━━━━━━━━━━━━━━━━━━━━━━━━━━━━━━━━━━━━━━━\u001b[0m \u001b[32m53.0/53.0 kB\u001b[0m \u001b[31m5.1 MB/s\u001b[0m eta \u001b[36m0:00:00\u001b[0m\n",
            "\u001b[?25hRequirement already satisfied: scikit-image in /usr/local/lib/python3.10/dist-packages (from rembg) (0.19.3)\n",
            "Requirement already satisfied: scipy in /usr/local/lib/python3.10/dist-packages (from rembg) (1.11.4)\n",
            "Requirement already satisfied: tqdm in /usr/local/lib/python3.10/dist-packages (from rembg) (4.66.2)\n",
            "Requirement already satisfied: attrs>=22.2.0 in /usr/local/lib/python3.10/dist-packages (from jsonschema->rembg) (23.2.0)\n",
            "Requirement already satisfied: jsonschema-specifications>=2023.03.6 in /usr/local/lib/python3.10/dist-packages (from jsonschema->rembg) (2023.12.1)\n",
            "Requirement already satisfied: referencing>=0.28.4 in /usr/local/lib/python3.10/dist-packages (from jsonschema->rembg) (0.34.0)\n",
            "Requirement already satisfied: rpds-py>=0.7.1 in /usr/local/lib/python3.10/dist-packages (from jsonschema->rembg) (0.18.0)\n",
            "Collecting coloredlogs (from onnxruntime->rembg)\n",
            "  Downloading coloredlogs-15.0.1-py2.py3-none-any.whl (46 kB)\n",
            "\u001b[2K     \u001b[90m━━━━━━━━━━━━━━━━━━━━━━━━━━━━━━━━━━━━━━━━\u001b[0m \u001b[32m46.0/46.0 kB\u001b[0m \u001b[31m3.2 MB/s\u001b[0m eta \u001b[36m0:00:00\u001b[0m\n",
            "\u001b[?25hRequirement already satisfied: flatbuffers in /usr/local/lib/python3.10/dist-packages (from onnxruntime->rembg) (24.3.25)\n",
            "Requirement already satisfied: packaging in /usr/local/lib/python3.10/dist-packages (from onnxruntime->rembg) (24.0)\n",
            "Requirement already satisfied: protobuf in /usr/local/lib/python3.10/dist-packages (from onnxruntime->rembg) (3.20.3)\n",
            "Requirement already satisfied: sympy in /usr/local/lib/python3.10/dist-packages (from onnxruntime->rembg) (1.12)\n",
            "Requirement already satisfied: platformdirs>=2.5.0 in /usr/local/lib/python3.10/dist-packages (from pooch->rembg) (4.2.0)\n",
            "Requirement already satisfied: requests>=2.19.0 in /usr/local/lib/python3.10/dist-packages (from pooch->rembg) (2.31.0)\n",
            "Requirement already satisfied: numba!=0.49.0 in /usr/local/lib/python3.10/dist-packages (from pymatting->rembg) (0.58.1)\n",
            "Requirement already satisfied: networkx>=2.2 in /usr/local/lib/python3.10/dist-packages (from scikit-image->rembg) (3.3)\n",
            "Requirement already satisfied: imageio>=2.4.1 in /usr/local/lib/python3.10/dist-packages (from scikit-image->rembg) (2.31.6)\n",
            "Requirement already satisfied: tifffile>=2019.7.26 in /usr/local/lib/python3.10/dist-packages (from scikit-image->rembg) (2024.2.12)\n",
            "Requirement already satisfied: PyWavelets>=1.1.1 in /usr/local/lib/python3.10/dist-packages (from scikit-image->rembg) (1.6.0)\n",
            "Requirement already satisfied: llvmlite<0.42,>=0.41.0dev0 in /usr/local/lib/python3.10/dist-packages (from numba!=0.49.0->pymatting->rembg) (0.41.1)\n",
            "Requirement already satisfied: charset-normalizer<4,>=2 in /usr/local/lib/python3.10/dist-packages (from requests>=2.19.0->pooch->rembg) (3.3.2)\n",
            "Requirement already satisfied: idna<4,>=2.5 in /usr/local/lib/python3.10/dist-packages (from requests>=2.19.0->pooch->rembg) (3.6)\n",
            "Requirement already satisfied: urllib3<3,>=1.21.1 in /usr/local/lib/python3.10/dist-packages (from requests>=2.19.0->pooch->rembg) (2.0.7)\n",
            "Requirement already satisfied: certifi>=2017.4.17 in /usr/local/lib/python3.10/dist-packages (from requests>=2.19.0->pooch->rembg) (2024.2.2)\n",
            "Collecting humanfriendly>=9.1 (from coloredlogs->onnxruntime->rembg)\n",
            "  Downloading humanfriendly-10.0-py2.py3-none-any.whl (86 kB)\n",
            "\u001b[2K     \u001b[90m━━━━━━━━━━━━━━━━━━━━━━━━━━━━━━━━━━━━━━━━\u001b[0m \u001b[32m86.8/86.8 kB\u001b[0m \u001b[31m4.7 MB/s\u001b[0m eta \u001b[36m0:00:00\u001b[0m\n",
            "\u001b[?25hRequirement already satisfied: mpmath>=0.19 in /usr/local/lib/python3.10/dist-packages (from sympy->onnxruntime->rembg) (1.3.0)\n",
            "Installing collected packages: humanfriendly, pymatting, coloredlogs, onnxruntime, rembg\n",
            "Successfully installed coloredlogs-15.0.1 humanfriendly-10.0 onnxruntime-1.17.3 pymatting-1.1.12 rembg-2.0.56\n"
          ]
        }
      ]
    },
    {
      "cell_type": "code",
      "execution_count": null,
      "metadata": {
        "id": "sxP5KZDx9lPS"
      },
      "outputs": [],
      "source": [
        "# def get_dataset_partions(ds, train_split = 0.8, val_split = 0.1, test_split = 0.1,shuffle = True, shuffle_size = 50):\n",
        "\n",
        "#   ds_size = len(ds)\n",
        "#   train_size = int(train_split * ds_size)\n",
        "#   val_size = int(val_split * ds_size)\n",
        "\n",
        "#   train_ds = ds.take(train_size)\n",
        "#   val_ds = ds.skip(train_size).take(val_size)\n",
        "#   test_ds = ds.skip(train_size).skip(val_size)\n",
        "\n",
        "#   return train_ds, val_ds, test_ds"
      ]
    },
    {
      "cell_type": "code",
      "execution_count": null,
      "metadata": {
        "id": "pi8bBdwNzQG1"
      },
      "outputs": [],
      "source": [
        "# plt.figure(figsize = (10,10))\n",
        "# for image_batch, label_batch in dataset.take(1):\n",
        "#   for i in range(12):\n",
        "#       ax = plt.subplot(3,4,i+1)\n",
        "#       plt.imshow(image_batch[i].numpy().astype('uint8'))\n",
        "#       plt.axis('off')\n",
        "#       # plt.title(class_names[label_batch[1]])\n",
        "#       plt.title(class_names[label_batch[i]])\n",
        "#   # print(image_batch[0].shape)\n",
        "#   # print(label_batch.numpy())"
      ]
    },
    {
      "cell_type": "code",
      "execution_count": null,
      "metadata": {
        "colab": {
          "base_uri": "https://localhost:8080/"
        },
        "id": "t13FuvgrNk8o",
        "outputId": "cc238c88-1e29-43b8-cb34-6d28268af4d6"
      },
      "outputs": [
        {
          "output_type": "stream",
          "name": "stdout",
          "text": [
            "Mounted at /content/drive\n"
          ]
        }
      ],
      "source": [
        "from google.colab import drive\n",
        "drive.mount('/content/drive')"
      ]
    },
    {
      "cell_type": "code",
      "execution_count": null,
      "metadata": {
        "id": "ljWVphHe5MPl"
      },
      "outputs": [],
      "source": [
        "# import necessary libaries\n",
        "import cv2\n",
        "import os\n",
        "import numpy as np\n",
        "from rembg import remove\n",
        "import matplotlib.pyplot as plt\n",
        "from sklearn.model_selection import train_test_split\n",
        "import tensorflow as tf\n",
        "from tensorflow.keras import models, layers"
      ]
    },
    {
      "cell_type": "code",
      "execution_count": null,
      "metadata": {
        "colab": {
          "base_uri": "https://localhost:8080/"
        },
        "id": "L322sCAxzP9a",
        "outputId": "a14148d0-ff9e-41fe-d371-4ee6ff81fea0"
      },
      "outputs": [
        {
          "output_type": "stream",
          "name": "stdout",
          "text": [
            "Found 1057 files belonging to 2 classes.\n"
          ]
        }
      ],
      "source": [
        "dataset = tf.keras.preprocessing.image_dataset_from_directory(\n",
        "    '/content/drive/MyDrive/major/Data set1',\n",
        "\n",
        "    batch_size = 30\n",
        ")"
      ]
    },
    {
      "cell_type": "code",
      "execution_count": null,
      "metadata": {
        "colab": {
          "base_uri": "https://localhost:8080/"
        },
        "id": "VJ36gKPYzP_G",
        "outputId": "b8b673dc-8656-475e-d98e-9b5e988db6b8"
      },
      "outputs": [
        {
          "output_type": "execute_result",
          "data": {
            "text/plain": [
              "['affected', 'non affected']"
            ]
          },
          "metadata": {},
          "execution_count": 6
        }
      ],
      "source": [
        "class_names = dataset.class_names\n",
        "class_names"
      ]
    },
    {
      "cell_type": "code",
      "execution_count": null,
      "metadata": {
        "id": "yi2DoFjXgOSF"
      },
      "outputs": [],
      "source": [
        "\n",
        "images, labels = [], []\n",
        "for image_batch, label_batch in dataset:\n",
        "    images.extend(image_batch)\n",
        "    labels.extend(label_batch)\n",
        "\n",
        "images = np.array(images)\n",
        "labels = np.array(labels)"
      ]
    },
    {
      "cell_type": "code",
      "source": [
        "def remove_background(image):\n",
        "      image = image.numpy().astype('uint8')\n",
        "      image = cv2.cvtColor(image[..., ::-1], cv2.COLOR_RGB2BGR)\n",
        "      output = remove(image)\n",
        "    #   output = cv2.cvtColor(output, cv2.COLOR_BGR2RGB)\n",
        "      return output\n",
        "\n",
        "\n",
        "def preprocess_segment_image(image):\n",
        "\n",
        "\n",
        "  output = remove_background(image)\n",
        "\n",
        "\n",
        "  gray = cv2.cvtColor(output, cv2.COLOR_BGR2GRAY)\n",
        "\n",
        "\n",
        "  thresh = cv2.threshold(gray, 127, 255, cv2.THRESH_BINARY)[1]\n",
        "\n",
        "\n",
        "  contours, _ = cv2.findContours(thresh, cv2.RETR_EXTERNAL, cv2.CHAIN_APPROX_SIMPLE)\n",
        "\n",
        "\n",
        "  largest_contour = max(contours, key=cv2.contourArea)\n",
        "\n",
        "  x, y, w, h = cv2.boundingRect(largest_contour)\n",
        "\n",
        "\n",
        "  cropped_image = output[y:y+h, x:x+w]\n",
        "\n",
        "\n",
        "  np_cropped_image = np.array(cropped_image)\n",
        "  resized_image = cv2.resize(cropped_image, (256, 256))\n",
        "  np_image = np.array(resized_image)\n",
        "  rescaled_image = np_image/255\n",
        "  return rescaled_image"
      ],
      "metadata": {
        "id": "_vXzYseqDvZr"
      },
      "execution_count": null,
      "outputs": []
    },
    {
      "cell_type": "code",
      "source": [
        "plt.imshow(images[0].numpy().astype('uint8'))\n",
        "preprocessed_images = [preprocess_segment_image(image) for image in images]\n",
        "plt.imshow(preprocessed_images[0])"
      ],
      "metadata": {
        "id": "InkYFtlJcMN-"
      },
      "execution_count": null,
      "outputs": []
    },
    {
      "cell_type": "code",
      "execution_count": null,
      "metadata": {
        "id": "Vc0j5lfNa-kQ"
      },
      "outputs": [],
      "source": [
        "train_val_images,test_images,train_val_labels,test_labels = train_test_split(images,labels, test_size = 0.2)\n",
        "train_images,val_images,train_labels,val_labels = train_test_split(train_val_images,train_val_labels,test_size=0.15)"
      ]
    },
    {
      "cell_type": "code",
      "execution_count": null,
      "metadata": {
        "id": "61UcHwVia-hY"
      },
      "outputs": [],
      "source": [
        "train_labels = train_labels.astype(np.int32)\n",
        "val_labels = val_labels.astype(np.int32)\n",
        "test_labels = test_labels.astype(np.int32)"
      ]
    },
    {
      "cell_type": "code",
      "execution_count": null,
      "metadata": {
        "colab": {
          "base_uri": "https://localhost:8080/"
        },
        "id": "IEfsalK5xksu",
        "outputId": "96e27a70-03f4-407c-fda9-75ea20b08991"
      },
      "outputs": [
        {
          "output_type": "stream",
          "name": "stdout",
          "text": [
            "718\n",
            "718\n",
            "212\n",
            "212\n",
            "127\n",
            "127\n",
            "(256, 256, 3)\n"
          ]
        }
      ],
      "source": [
        "print(len(train_images))\n",
        "print(len(train_labels))\n",
        "print(len(test_images))\n",
        "print(len(test_labels))\n",
        "print(len(val_images))\n",
        "print(len(val_labels))\n",
        "print(train_images[0].shape)"
      ]
    },
    {
      "cell_type": "code",
      "execution_count": null,
      "metadata": {
        "id": "9J3o7q8za-eU"
      },
      "outputs": [],
      "source": [
        "img_height, img_width, channels = train_images.shape[1:]\n",
        "input_shape = (img_height, img_width, channels)"
      ]
    },
    {
      "cell_type": "code",
      "execution_count": null,
      "metadata": {
        "id": "zUUoF4vd9_FW"
      },
      "outputs": [],
      "source": [
        "\n",
        "def cnn_model():\n",
        "    n_classes = 2\n",
        "    input_shape = (256, 256, 3)\n",
        "\n",
        "    model = models.Sequential(\n",
        "        [\n",
        "\n",
        "            layers.Conv2D(32, (3,3), activation = 'relu', input_shape = input_shape,name = 'layer1'),\n",
        "            layers.MaxPooling2D((2,2),name = 'layer11'),\n",
        "            layers.Conv2D(64, kernel_size = (3,3), activation = 'relu',name = 'layer2'),\n",
        "            layers.MaxPooling2D((2,2),name = 'layer22'),\n",
        "            layers.Conv2D(64, kernel_size = (3,3), activation = 'relu',name = 'layer3'),\n",
        "            layers.MaxPooling2D((2,2),name = 'layer33'),\n",
        "            layers.Conv2D(64, (3,3), activation = 'relu',name = 'layer4'),\n",
        "            layers.MaxPooling2D((2,2),name = 'layer44'),\n",
        "            layers.Conv2D(64, (3,3), activation = 'relu',name = 'layer5'),\n",
        "            layers.MaxPooling2D((2,2),name = 'layer55'),\n",
        "            layers.Conv2D(64, (3,3), activation = 'relu',name = 'layer6'),\n",
        "            layers.MaxPooling2D((2,2),name = 'layer66'),\n",
        "\n",
        "            layers.Flatten(),\n",
        "            layers.Dense(64, activation = 'relu'),\n",
        "            layers.Dense(n_classes, activation = 'softmax')\n",
        "\n",
        "        ]\n",
        "    )\n",
        "\n",
        "    # model.build(input_shape = input_shape)\n",
        "    model.compile(\n",
        "    optimizer='adam',\n",
        "    loss=tf.keras.losses.SparseCategoricalCrossentropy(from_logits=True),\n",
        "    metrics=['accuracy'])\n",
        "\n",
        "    return model"
      ]
    },
    {
      "cell_type": "code",
      "execution_count": null,
      "metadata": {
        "colab": {
          "base_uri": "https://localhost:8080/"
        },
        "id": "0xb4AsyN9_sL",
        "outputId": "eff2c510-e082-4b50-9b9b-3e7a3711d648"
      },
      "outputs": [
        {
          "output_type": "stream",
          "name": "stdout",
          "text": [
            "Epoch 1/50\n"
          ]
        },
        {
          "output_type": "stream",
          "name": "stderr",
          "text": [
            "/usr/local/lib/python3.10/dist-packages/keras/src/backend.py:5727: UserWarning: \"`sparse_categorical_crossentropy` received `from_logits=True`, but the `output` argument was produced by a Softmax activation and thus does not represent logits. Was this intended?\n",
            "  output, from_logits = _get_logits(\n"
          ]
        },
        {
          "output_type": "stream",
          "name": "stdout",
          "text": [
            "23/23 [==============================] - 93s 4s/step - loss: 2.1536 - accuracy: 0.6407 - val_loss: 0.2488 - val_accuracy: 0.9134\n",
            "Epoch 2/50\n",
            "23/23 [==============================] - 94s 4s/step - loss: 0.1523 - accuracy: 0.9457 - val_loss: 0.5333 - val_accuracy: 0.7795\n",
            "Epoch 3/50\n",
            "23/23 [==============================] - 91s 4s/step - loss: 0.3389 - accuracy: 0.8663 - val_loss: 0.0859 - val_accuracy: 0.9764\n",
            "Epoch 4/50\n",
            "23/23 [==============================] - 91s 4s/step - loss: 0.1134 - accuracy: 0.9680 - val_loss: 0.0761 - val_accuracy: 0.9685\n",
            "Epoch 5/50\n",
            "23/23 [==============================] - 90s 4s/step - loss: 0.0408 - accuracy: 0.9889 - val_loss: 0.0613 - val_accuracy: 0.9764\n",
            "Epoch 6/50\n",
            "23/23 [==============================] - 87s 4s/step - loss: 0.0348 - accuracy: 0.9903 - val_loss: 0.0509 - val_accuracy: 0.9685\n",
            "Epoch 7/50\n",
            "23/23 [==============================] - 89s 4s/step - loss: 0.0112 - accuracy: 0.9972 - val_loss: 0.0953 - val_accuracy: 0.9764\n",
            "Epoch 8/50\n",
            "23/23 [==============================] - 94s 4s/step - loss: 0.0136 - accuracy: 0.9958 - val_loss: 0.0627 - val_accuracy: 0.9685\n",
            "Epoch 9/50\n",
            "23/23 [==============================] - 89s 4s/step - loss: 0.0599 - accuracy: 0.9791 - val_loss: 0.1513 - val_accuracy: 0.9685\n",
            "Epoch 10/50\n",
            "23/23 [==============================] - 90s 4s/step - loss: 0.0378 - accuracy: 0.9903 - val_loss: 0.1061 - val_accuracy: 0.9685\n",
            "Epoch 11/50\n",
            "23/23 [==============================] - 90s 4s/step - loss: 0.1577 - accuracy: 0.9624 - val_loss: 0.1014 - val_accuracy: 0.9921\n",
            "Epoch 12/50\n",
            "23/23 [==============================] - 88s 4s/step - loss: 0.0463 - accuracy: 0.9889 - val_loss: 0.0358 - val_accuracy: 0.9843\n",
            "Epoch 13/50\n",
            "23/23 [==============================] - 90s 4s/step - loss: 0.0266 - accuracy: 0.9916 - val_loss: 0.0707 - val_accuracy: 0.9843\n",
            "Epoch 14/50\n",
            "23/23 [==============================] - 94s 4s/step - loss: 0.0659 - accuracy: 0.9791 - val_loss: 0.0866 - val_accuracy: 0.9843\n",
            "Epoch 15/50\n",
            "23/23 [==============================] - 90s 4s/step - loss: 0.0192 - accuracy: 0.9958 - val_loss: 0.0212 - val_accuracy: 0.9921\n",
            "Epoch 16/50\n",
            "23/23 [==============================] - 90s 4s/step - loss: 0.0081 - accuracy: 0.9958 - val_loss: 0.0549 - val_accuracy: 0.9764\n",
            "Epoch 17/50\n",
            "23/23 [==============================] - 91s 4s/step - loss: 0.0036 - accuracy: 1.0000 - val_loss: 0.0127 - val_accuracy: 0.9921\n",
            "Epoch 18/50\n",
            "23/23 [==============================] - 95s 4s/step - loss: 0.0012 - accuracy: 1.0000 - val_loss: 0.0420 - val_accuracy: 0.9921\n",
            "Epoch 19/50\n",
            "23/23 [==============================] - 90s 4s/step - loss: 0.0012 - accuracy: 1.0000 - val_loss: 0.0471 - val_accuracy: 0.9843\n",
            "Epoch 20/50\n",
            "23/23 [==============================] - 90s 4s/step - loss: 2.8150e-04 - accuracy: 1.0000 - val_loss: 0.0244 - val_accuracy: 0.9921\n",
            "Epoch 21/50\n",
            "23/23 [==============================] - 90s 4s/step - loss: 2.1820e-04 - accuracy: 1.0000 - val_loss: 0.0249 - val_accuracy: 0.9921\n",
            "Epoch 22/50\n",
            "23/23 [==============================] - 90s 4s/step - loss: 1.6525e-04 - accuracy: 1.0000 - val_loss: 0.0276 - val_accuracy: 0.9921\n",
            "Epoch 23/50\n",
            "23/23 [==============================] - 90s 4s/step - loss: 1.3664e-04 - accuracy: 1.0000 - val_loss: 0.0290 - val_accuracy: 0.9921\n",
            "Epoch 24/50\n",
            "23/23 [==============================] - 93s 4s/step - loss: 1.1485e-04 - accuracy: 1.0000 - val_loss: 0.0303 - val_accuracy: 0.9921\n",
            "Epoch 25/50\n",
            "23/23 [==============================] - 90s 4s/step - loss: 9.9230e-05 - accuracy: 1.0000 - val_loss: 0.0312 - val_accuracy: 0.9921\n",
            "Epoch 26/50\n",
            "23/23 [==============================] - 89s 4s/step - loss: 8.4583e-05 - accuracy: 1.0000 - val_loss: 0.0304 - val_accuracy: 0.9921\n",
            "Epoch 27/50\n",
            "23/23 [==============================] - 90s 4s/step - loss: 7.6373e-05 - accuracy: 1.0000 - val_loss: 0.0300 - val_accuracy: 0.9921\n",
            "Epoch 28/50\n",
            "23/23 [==============================] - 89s 4s/step - loss: 6.6744e-05 - accuracy: 1.0000 - val_loss: 0.0320 - val_accuracy: 0.9921\n",
            "Epoch 29/50\n",
            "23/23 [==============================] - 89s 4s/step - loss: 6.0339e-05 - accuracy: 1.0000 - val_loss: 0.0327 - val_accuracy: 0.9921\n",
            "Epoch 30/50\n",
            "23/23 [==============================] - 93s 4s/step - loss: 5.3829e-05 - accuracy: 1.0000 - val_loss: 0.0330 - val_accuracy: 0.9921\n",
            "Epoch 31/50\n",
            "23/23 [==============================] - 89s 4s/step - loss: 4.8639e-05 - accuracy: 1.0000 - val_loss: 0.0329 - val_accuracy: 0.9921\n",
            "Epoch 32/50\n",
            "23/23 [==============================] - 90s 4s/step - loss: 4.4783e-05 - accuracy: 1.0000 - val_loss: 0.0330 - val_accuracy: 0.9921\n",
            "Epoch 33/50\n",
            "23/23 [==============================] - 89s 4s/step - loss: 4.0963e-05 - accuracy: 1.0000 - val_loss: 0.0340 - val_accuracy: 0.9921\n",
            "Epoch 34/50\n",
            "23/23 [==============================] - 89s 4s/step - loss: 3.7576e-05 - accuracy: 1.0000 - val_loss: 0.0346 - val_accuracy: 0.9921\n",
            "Epoch 35/50\n",
            "23/23 [==============================] - 90s 4s/step - loss: 3.4826e-05 - accuracy: 1.0000 - val_loss: 0.0351 - val_accuracy: 0.9921\n",
            "Epoch 36/50\n",
            "23/23 [==============================] - 95s 4s/step - loss: 3.1916e-05 - accuracy: 1.0000 - val_loss: 0.0352 - val_accuracy: 0.9921\n",
            "Epoch 37/50\n",
            "23/23 [==============================] - 89s 4s/step - loss: 2.9444e-05 - accuracy: 1.0000 - val_loss: 0.0352 - val_accuracy: 0.9921\n",
            "Epoch 38/50\n",
            "23/23 [==============================] - 89s 4s/step - loss: 2.7476e-05 - accuracy: 1.0000 - val_loss: 0.0358 - val_accuracy: 0.9921\n",
            "Epoch 39/50\n",
            "23/23 [==============================] - 90s 4s/step - loss: 2.5375e-05 - accuracy: 1.0000 - val_loss: 0.0364 - val_accuracy: 0.9921\n",
            "Epoch 40/50\n",
            "23/23 [==============================] - 90s 4s/step - loss: 2.3720e-05 - accuracy: 1.0000 - val_loss: 0.0358 - val_accuracy: 0.9921\n",
            "Epoch 41/50\n",
            "23/23 [==============================] - 89s 4s/step - loss: 2.2225e-05 - accuracy: 1.0000 - val_loss: 0.0368 - val_accuracy: 0.9921\n",
            "Epoch 42/50\n",
            "23/23 [==============================] - 94s 4s/step - loss: 2.0623e-05 - accuracy: 1.0000 - val_loss: 0.0371 - val_accuracy: 0.9921\n",
            "Epoch 43/50\n",
            "23/23 [==============================] - 90s 4s/step - loss: 1.9549e-05 - accuracy: 1.0000 - val_loss: 0.0374 - val_accuracy: 0.9921\n",
            "Epoch 44/50\n",
            "23/23 [==============================] - 89s 4s/step - loss: 1.8489e-05 - accuracy: 1.0000 - val_loss: 0.0379 - val_accuracy: 0.9921\n",
            "Epoch 45/50\n",
            "23/23 [==============================] - 89s 4s/step - loss: 1.7605e-05 - accuracy: 1.0000 - val_loss: 0.0382 - val_accuracy: 0.9921\n",
            "Epoch 46/50\n",
            "23/23 [==============================] - 88s 4s/step - loss: 1.6532e-05 - accuracy: 1.0000 - val_loss: 0.0385 - val_accuracy: 0.9921\n",
            "Epoch 47/50\n",
            "23/23 [==============================] - 87s 4s/step - loss: 1.5713e-05 - accuracy: 1.0000 - val_loss: 0.0386 - val_accuracy: 0.9921\n",
            "Epoch 48/50\n",
            "23/23 [==============================] - 88s 4s/step - loss: 1.4891e-05 - accuracy: 1.0000 - val_loss: 0.0388 - val_accuracy: 0.9921\n",
            "Epoch 49/50\n",
            "23/23 [==============================] - 93s 4s/step - loss: 1.4224e-05 - accuracy: 1.0000 - val_loss: 0.0390 - val_accuracy: 0.9921\n",
            "Epoch 50/50\n",
            "23/23 [==============================] - 88s 4s/step - loss: 1.3412e-05 - accuracy: 1.0000 - val_loss: 0.0398 - val_accuracy: 0.9921\n"
          ]
        }
      ],
      "source": [
        "model = cnn_model()\n",
        "history = model.fit(\n",
        "    train_images,\n",
        "    train_labels,\n",
        "    epochs = 50,\n",
        "\n",
        "    verbose = 1,\n",
        "    validation_data = (val_images,val_labels)\n",
        ")"
      ]
    },
    {
      "cell_type": "code",
      "source": [
        "def predict_image(image_path):\n",
        "    image = cv2.imread(image_path)\n",
        "    preprocessed_image = preprocess_segment_image(image)\n",
        "    classes = ['affected','non affected']\n",
        "    prediction = model.predict(preprocessed_image)\n",
        "    return classes[np.argmax(prediction)]\n",
        "predict(test_images[0])"
      ],
      "metadata": {
        "id": "yCr_fK7Q-dni"
      },
      "execution_count": null,
      "outputs": []
    },
    {
      "cell_type": "code",
      "source": [
        "  image = images[0].numpy().astype('uint8')\n",
        "  image = cv2.cvtColor(image[..., ::-1], cv2.COLOR_RGB2BGR)\n",
        "  plt.imshow(remove(image).astype('uint8'))"
      ],
      "metadata": {
        "id": "h8TUgczuYQX5",
        "colab": {
          "base_uri": "https://localhost:8080/",
          "height": 489
        },
        "outputId": "0623d730-de97-45ab-bb00-d35599decc7f"
      },
      "execution_count": null,
      "outputs": [
        {
          "output_type": "stream",
          "name": "stderr",
          "text": [
            "Downloading data from 'https://github.com/danielgatis/rembg/releases/download/v0.0.0/u2net.onnx' to file '/root/.u2net/u2net.onnx'.\n",
            "100%|████████████████████████████████████████| 176M/176M [00:00<00:00, 118GB/s]\n"
          ]
        },
        {
          "output_type": "execute_result",
          "data": {
            "text/plain": [
              "<matplotlib.image.AxesImage at 0x7971136f1150>"
            ]
          },
          "metadata": {},
          "execution_count": 15
        },
        {
          "output_type": "display_data",
          "data": {
            "text/plain": [
              "<Figure size 640x480 with 1 Axes>"
            ],
            "image/png": "[encoded data removed]"
          },
          "metadata": {}
        }
      ]
    },
    {
      "cell_type": "code",
      "execution_count": null,
      "metadata": {
        "id": "oLOVvsVhkebT"
      },
      "outputs": [],
      "source": [
        "for i in range(12):\n",
        "      ax = plt.subplot(3,4,i+1)\n",
        "      plt.imshow(images[i].astype('uint8'))\n",
        "      plt.axis('off')\n",
        "      # plt.title(class_names[label_batch[1]])\n",
        "      plt.title(class_names[labels[i]])"
      ]
    },
    {
      "cell_type": "code",
      "source": [
        "from sklearn.linear_model import LogisticRegression\n",
        "from sklearn.metrics import classification_report\n",
        "log = LogisticRegression(max_iter = 1000)\n",
        "\n",
        "train_images = train_images.reshape(-1, img_height * img_width * channels)\n",
        "log.fit(train_images,train_labels)\n",
        "log_predictions = log.predict(test_images.reshape(-1, img_height * img_width * channels))"
      ],
      "metadata": {
        "id": "pEgXXyYZl6Gx"
      },
      "execution_count": null,
      "outputs": []
    },
    {
      "cell_type": "code",
      "source": [
        "print(classification_report(test_labels,log_predictions,target_names = class_names))"
      ],
      "metadata": {
        "colab": {
          "base_uri": "https://localhost:8080/"
        },
        "id": "DUDbykzVwAUO",
        "outputId": "b20e9331-f2e5-4587-a186-34f1c2afec35"
      },
      "execution_count": null,
      "outputs": [
        {
          "output_type": "stream",
          "name": "stdout",
          "text": [
            "              precision    recall  f1-score   support\n",
            "\n",
            "    affected       0.94      0.94      0.94       109\n",
            "non affected       0.93      0.93      0.93       103\n",
            "\n",
            "    accuracy                           0.93       212\n",
            "   macro avg       0.93      0.93      0.93       212\n",
            "weighted avg       0.93      0.93      0.93       212\n",
            "\n"
          ]
        }
      ]
    },
    {
      "cell_type": "code",
      "source": [
        "from sklearn.svm import SVC\n",
        "svc = SVC()\n",
        "svc.fit(train_images,train_labels)\n",
        "svm_predictions = svc.predict(test_images.reshape(-1, img_height * img_width * channels))"
      ],
      "metadata": {
        "id": "BWyaqF0Hl6E0"
      },
      "execution_count": null,
      "outputs": []
    },
    {
      "cell_type": "code",
      "source": [
        "print(classification_report(test_labels,svm_predictions,target_names = class_names ))"
      ],
      "metadata": {
        "colab": {
          "base_uri": "https://localhost:8080/"
        },
        "id": "Q8ER1vWWl6BX",
        "outputId": "e96145e3-f1c1-4440-919d-c1452561d939"
      },
      "execution_count": null,
      "outputs": [
        {
          "output_type": "stream",
          "name": "stdout",
          "text": [
            "              precision    recall  f1-score   support\n",
            "\n",
            "    affected       0.97      0.90      0.93       109\n",
            "non affected       0.90      0.97      0.93       103\n",
            "\n",
            "    accuracy                           0.93       212\n",
            "   macro avg       0.94      0.93      0.93       212\n",
            "weighted avg       0.94      0.93      0.93       212\n",
            "\n"
          ]
        }
      ]
    },
    {
      "cell_type": "code",
      "source": [
        "from sklearn.ensemble import RandomForestClassifier\n",
        "rfc = RandomForestClassifier(n_estimators=100)\n",
        "rfc.fit(train_images,train_labels)\n",
        "rfc_predictions = rfc.predict(test_images.reshape(-1, img_height * img_width * channels))\n",
        "print(classification_report(test_labels,rfc_predictions,target_names = class_names))"
      ],
      "metadata": {
        "colab": {
          "base_uri": "https://localhost:8080/"
        },
        "id": "X7pUzpARl5_h",
        "outputId": "11835999-2be8-461c-828a-bdadf91fc3c4"
      },
      "execution_count": null,
      "outputs": [
        {
          "output_type": "stream",
          "name": "stdout",
          "text": [
            "              precision    recall  f1-score   support\n",
            "\n",
            "    affected       0.93      0.93      0.93       109\n",
            "non affected       0.92      0.92      0.92       103\n",
            "\n",
            "    accuracy                           0.92       212\n",
            "   macro avg       0.92      0.92      0.92       212\n",
            "weighted avg       0.92      0.92      0.92       212\n",
            "\n"
          ]
        }
      ]
    },
    {
      "cell_type": "code",
      "source": [],
      "metadata": {
        "id": "foSUODPql5os"
      },
      "execution_count": null,
      "outputs": []
    },
    {
      "cell_type": "code",
      "source": [],
      "metadata": {
        "id": "-361Fomsl5mn"
      },
      "execution_count": null,
      "outputs": []
    },
    {
      "cell_type": "code",
      "execution_count": null,
      "metadata": {
        "id": "gc984Tipq0nt"
      },
      "outputs": [],
      "source": [
        "print(input_shape)"
      ]
    },
    {
      "cell_type": "code",
      "execution_count": null,
      "metadata": {
        "id": "xr6k82K-HVI3"
      },
      "outputs": [],
      "source": [
        "# train_data, validation_data, test_data = get_dataset_partions(dataset)"
      ]
    },
    {
      "cell_type": "code",
      "execution_count": null,
      "metadata": {
        "id": "qkWIU0ofs8Mz"
      },
      "outputs": [],
      "source": [
        "# Suggested Changes\n",
        "\n",
        "data_augmentation = tf.keras.Sequential(\n",
        "    [\n",
        "        layers.experimental.preprocessing.RandomFlip(\"horizontal_and_vertical\"),\n",
        "        layers.experimental.preprocessing.RandomRotation(0.2),\n",
        "        layers.experimental.preprocessing.Rescaling(1/255), # Normalize pixel values\n",
        "    ]\n",
        ")"
      ]
    },
    {
      "cell_type": "code",
      "source": [
        "pipeline = Pipeline([\n",
        "    ('preprocessor', preprocess_segment_image()),\n",
        "    ('classifier', KerasClassifier(build_fn=cnn_model, epochs=50, verbose=1))\n",
        "])\n"
      ],
      "metadata": {
        "id": "Z0Vw33TYV2WP"
      },
      "execution_count": null,
      "outputs": []
    },
    {
      "cell_type": "code",
      "source": [
        "history = pipeline.fit(train_images,train_labels,keras_classifier__validation_data=(val_images, val_labels))"
      ],
      "metadata": {
        "id": "XJRBM_POWnC4"
      },
      "execution_count": null,
      "outputs": []
    },
    {
      "cell_type": "code",
      "execution_count": null,
      "metadata": {
        "id": "l2uwK2bV9_fQ"
      },
      "outputs": [],
      "source": [
        "model.summary()"
      ]
    },
    {
      "cell_type": "code",
      "execution_count": null,
      "metadata": {
        "id": "p2nj6Dr59_nx"
      },
      "outputs": [],
      "source": []
    },
    {
      "cell_type": "code",
      "execution_count": null,
      "metadata": {
        "colab": {
          "base_uri": "https://localhost:8080/"
        },
        "id": "YqZVmJbu9_vI",
        "outputId": "8ff45f0e-1084-4f8c-ce66-8801b98c15fa"
      },
      "outputs": [
        {
          "output_type": "stream",
          "name": "stdout",
          "text": [
            "7/7 [==============================] - 0s 7ms/step - loss: 0.0000e+00 - accuracy: 0.0000e+00\n"
          ]
        }
      ],
      "source": [
        "scores = model.evaluate(test_images,test_labels)"
      ]
    },
    {
      "cell_type": "code",
      "execution_count": null,
      "metadata": {
        "colab": {
          "base_uri": "https://localhost:8080/"
        },
        "id": "hDVNwclLNSZg",
        "outputId": "aa061c8f-c63c-4c6a-9270-cbc4d1dd043a"
      },
      "outputs": [
        {
          "output_type": "stream",
          "name": "stdout",
          "text": [
            "7/7 [==============================] - 1s 121ms/step\n"
          ]
        }
      ],
      "source": [
        "predictions = model.predict(test_images)"
      ]
    },
    {
      "cell_type": "code",
      "execution_count": null,
      "metadata": {
        "id": "HoHFKYpVzyea"
      },
      "outputs": [],
      "source": [
        "prediction_class = np.argmax(predictions, axis = 1)\n",
        "from sklearn.metrics import classification_report\n",
        "report = classification_report(test_labels,prediction_class,target_names = class_names)"
      ]
    },
    {
      "cell_type": "code",
      "execution_count": null,
      "metadata": {
        "colab": {
          "base_uri": "https://localhost:8080/"
        },
        "id": "X2Ip8gEMzyVL",
        "outputId": "ef9834e7-447b-4d09-ce25-0c8497311a80"
      },
      "outputs": [
        {
          "output_type": "stream",
          "name": "stdout",
          "text": [
            "              precision    recall  f1-score   support\n",
            "\n",
            "    affected       0.99      0.98      0.99       103\n",
            "non affected       0.98      0.99      0.99       109\n",
            "\n",
            "    accuracy                           0.99       212\n",
            "   macro avg       0.99      0.99      0.99       212\n",
            "weighted avg       0.99      0.99      0.99       212\n",
            "\n"
          ]
        }
      ],
      "source": [
        "print(report)"
      ]
    },
    {
      "cell_type": "code",
      "execution_count": null,
      "metadata": {
        "colab": {
          "background_save": true
        },
        "id": "lH30spVx9_0_"
      },
      "outputs": [],
      "source": [
        "history.history['accuracy']"
      ]
    },
    {
      "cell_type": "code",
      "execution_count": null,
      "metadata": {
        "id": "s9rDLqLN9_4o"
      },
      "outputs": [],
      "source": [
        "acc = history.history['accuracy']\n",
        "val_acc = history.history['val_accuracy']\n",
        "\n",
        "loss = history.history['loss']\n",
        "val_loss = history.history['val_loss']"
      ]
    },
    {
      "cell_type": "code",
      "execution_count": null,
      "metadata": {
        "colab": {
          "base_uri": "https://localhost:8080/",
          "height": 699
        },
        "id": "qfa0ldx49_7l",
        "outputId": "51543a84-24ef-4cb6-c862-6ffc95142527"
      },
      "outputs": [
        {
          "output_type": "display_data",
          "data": {
            "text/plain": [
              "<Figure size 800x800 with 2 Axes>"
            ],
            "image/png": "[encoded data removed]"
          },
          "metadata": {}
        }
      ],
      "source": [
        "plt.figure(figsize=(8,8))\n",
        "plt.subplot(1, 2, 1)\n",
        "plt.plot(range(50), acc, label = 'Training accuracy')\n",
        "plt.plot(range(50), val_acc, label = 'validation Accuracy')\n",
        "plt.legend(loc = 'lower right')\n",
        "plt.title(\"Training and Validation Accuracy\")\n",
        "\n",
        "\n",
        "plt.subplot(1, 2, 2)\n",
        "plt.plot(range(50), loss, label = 'Training loss')\n",
        "plt.plot(range(50), val_loss, label = 'validation loss')\n",
        "plt.legend(loc = 'upper right')\n",
        "plt.title(\"Training and Validation loss\")\n",
        "\n",
        "plt.show()"
      ]
    },
    {
      "cell_type": "code",
      "execution_count": null,
      "metadata": {
        "id": "znJwzymhB0m2",
        "colab": {
          "base_uri": "https://localhost:8080/"
        },
        "outputId": "b369031e-1119-412d-a618-81567beebd7b"
      },
      "outputs": [
        {
          "output_type": "stream",
          "name": "stdout",
          "text": [
            "conv2d (3, 3, 3, 32)\n",
            "[[[[ 8.60005096e-02  9.92134511e-02  1.13316894e-01 -9.80570838e-02\n",
            "    -8.29354376e-02 -1.04244813e-01 -8.06075260e-02  3.42961848e-02\n",
            "    -9.10124406e-02 -5.59494272e-02  4.98075411e-02 -1.35172457e-01\n",
            "    -7.45657012e-02  1.63698643e-01 -9.63501036e-02  6.55760542e-02\n",
            "     5.13988584e-02 -1.14888072e-01  9.87244025e-02  3.83415492e-03\n",
            "     1.51366126e-02  3.88749912e-02  3.37795913e-02 -1.35875955e-01\n",
            "    -1.45017598e-02  6.43378422e-02  8.55334401e-02 -9.94066820e-02\n",
            "     4.84454855e-02 -1.49483964e-01  8.24732929e-02  5.02330102e-02]\n",
            "   [ 3.12485341e-02 -1.07600447e-03 -8.94249678e-02 -1.44841224e-01\n",
            "     1.17592335e-01 -5.26522752e-03 -5.07421233e-03  2.91477237e-02\n",
            "    -1.09756105e-01  1.05026051e-01  1.10130891e-01 -7.30750263e-02\n",
            "     9.45702940e-02 -8.19108486e-02  3.32570374e-02  4.72016744e-02\n",
            "    -1.34554744e-01  1.19606309e-01 -1.27512798e-01  5.40915765e-02\n",
            "     8.15586522e-02 -1.34531647e-01  1.34929031e-01  1.20357282e-01\n",
            "     1.05888173e-01 -7.38969818e-02  5.14285490e-02 -1.37139373e-02\n",
            "    -5.28635122e-02 -1.16020970e-01  2.47487165e-02 -4.47855704e-02]\n",
            "   [-1.66418478e-02  9.10990499e-03  9.78890806e-02  2.71658842e-02\n",
            "    -1.42109888e-02 -1.63990229e-01 -1.46268522e-02 -4.11517508e-02\n",
            "     5.57032041e-02 -2.55823750e-02 -2.77704038e-02 -1.18082806e-01\n",
            "     7.15632290e-02  1.59501299e-01 -3.24409977e-02  2.05892455e-02\n",
            "    -1.15748487e-01  1.36874959e-01  8.36613961e-03  1.11256942e-01\n",
            "     8.49280413e-03 -1.48885131e-01 -7.74464309e-02 -6.09698333e-02\n",
            "     2.75010113e-02 -1.21632494e-01 -7.06053227e-02  1.36871696e-01\n",
            "    -1.00061893e-01  4.69304994e-02 -1.09016486e-01  1.11726902e-01]]\n",
            "\n",
            "  [[ 2.69007403e-02  6.95252791e-02  4.44178097e-03  9.63455513e-02\n",
            "     1.28112733e-01 -1.36680558e-01 -7.50211328e-02 -1.21667601e-01\n",
            "    -5.57342619e-02  3.61194648e-02 -4.88537438e-02 -1.90846827e-02\n",
            "     9.31864679e-02  1.15567051e-01  2.58611031e-02 -2.86601987e-02\n",
            "     3.25481780e-02  3.82197835e-02 -2.82906387e-02  5.06747626e-02\n",
            "    -1.08401380e-01 -1.77329145e-02  9.92397070e-02  1.27245694e-01\n",
            "    -8.54865015e-02  1.24089092e-01  6.65838867e-02  2.53575612e-02\n",
            "     1.03125498e-01  9.94611606e-02 -2.90493667e-02 -6.37715012e-02]\n",
            "   [ 6.16772883e-02 -5.52077703e-02  6.00120127e-02 -2.38234345e-02\n",
            "     4.45515998e-02 -1.94304720e-01 -4.98761758e-02  1.05149344e-01\n",
            "    -3.26348245e-02 -4.55466006e-03 -1.06498182e-01 -4.97569218e-02\n",
            "    -7.47159272e-02 -7.70288929e-02 -1.55638158e-02 -1.07783815e-02\n",
            "    -5.34900576e-02  1.10507339e-01  1.28789619e-01 -8.90142471e-02\n",
            "     1.17934734e-01  5.07204644e-02  1.25021607e-01  1.24064349e-01\n",
            "     1.42030865e-01  1.07206389e-01  6.15080483e-02 -5.60858026e-02\n",
            "     2.30171401e-02 -1.52584026e-02 -1.39705107e-01 -4.51334491e-02]\n",
            "   [ 2.70909835e-02 -2.68379506e-02  6.72987057e-03  2.59568002e-02\n",
            "     1.20044135e-01  1.01534836e-02 -1.21667594e-01 -9.44142975e-03\n",
            "    -1.08058043e-01 -9.17601883e-02  1.04622036e-01 -3.20683904e-02\n",
            "     2.73157321e-02 -9.47787091e-02  6.20437153e-02  6.68947697e-02\n",
            "     1.04464173e-01 -1.11127354e-01  9.62674767e-02  8.05831049e-03\n",
            "     2.55300496e-02 -1.74228556e-03 -1.43512964e-01 -5.56289516e-02\n",
            "     1.64101213e-01  5.67840934e-02  3.53676006e-02 -1.50481701e-01\n",
            "    -1.49783436e-02 -1.03383712e-01  3.02954242e-02 -1.20734252e-01]]\n",
            "\n",
            "  [[ 4.08727489e-02 -3.89110930e-02 -9.34953541e-02 -1.19772656e-02\n",
            "    -8.06201994e-02 -2.02944309e-01  5.17673083e-02  8.58613551e-02\n",
            "    -3.33068557e-02  4.43422347e-02  5.86350858e-02  2.70437244e-02\n",
            "    -1.01528369e-01 -1.59078225e-01  2.93397214e-02  1.42235398e-01\n",
            "    -1.31371960e-01 -8.79661962e-02 -3.64865852e-03 -7.77426288e-02\n",
            "    -8.48543718e-02  5.00527062e-02  1.72963943e-02  5.74719757e-02\n",
            "    -9.06509236e-02 -9.52702314e-02  1.41920313e-01 -1.19683616e-01\n",
            "    -1.14460297e-01  1.44656533e-02  1.35203497e-02 -6.70658723e-02]\n",
            "   [ 3.95626798e-02  7.48893544e-02  1.03409328e-02 -7.39609748e-02\n",
            "    -6.52564503e-03 -8.55842754e-02 -5.69506362e-02  3.01184654e-02\n",
            "    -1.30540356e-01 -1.22047834e-01 -1.18415348e-01 -1.04793370e-01\n",
            "     1.94406137e-02  4.04039137e-02  1.84651371e-02  1.43220440e-01\n",
            "     1.27550587e-01  1.15669444e-01 -1.17058940e-01  2.34940629e-02\n",
            "    -3.56483608e-02 -4.33465354e-02  7.91440606e-02 -1.31018803e-01\n",
            "     8.54417905e-02  1.64527185e-02  2.89309658e-02 -1.13503084e-01\n",
            "    -7.10246898e-03 -3.55675854e-02 -1.03941001e-01 -6.01695031e-02]\n",
            "   [ 5.35346158e-02 -7.89821446e-02 -7.27341697e-02 -1.36566520e-01\n",
            "     2.54420619e-02 -4.94396389e-02  7.87632018e-02  4.11412604e-02\n",
            "     4.00651470e-02  3.56533118e-02  8.77258629e-02 -1.22347131e-01\n",
            "     7.41233453e-02  6.65832609e-02  1.21454298e-01 -1.87933631e-02\n",
            "     6.04830235e-02  8.78349617e-02 -1.76636763e-02  7.20422268e-02\n",
            "     1.10576287e-01 -3.95652689e-02  7.24809840e-02  8.44516903e-02\n",
            "     9.22150817e-03 -2.43456499e-03 -1.04230136e-01 -1.15230367e-01\n",
            "     1.08007856e-01 -1.16652727e-01  3.37729864e-02  4.76205237e-02]]]\n",
            "\n",
            "\n",
            " [[[-5.84549718e-02  7.71192685e-02  3.36463237e-03  6.40234500e-02\n",
            "    -1.39640242e-01  2.25715805e-02  1.17340371e-01  1.20722137e-01\n",
            "    -6.61405101e-02 -4.18899097e-02  7.68789425e-02  1.31919444e-01\n",
            "     5.75723909e-02 -3.99488118e-03 -8.11436474e-02  3.67775112e-02\n",
            "    -1.44338831e-01 -6.80315271e-02 -4.62607667e-02  4.10106778e-02\n",
            "    -1.01749070e-01  1.15591444e-01 -7.38627911e-02 -6.46146387e-02\n",
            "    -6.57865107e-02 -5.42705245e-02  5.43348119e-02  7.04340339e-02\n",
            "     1.04757816e-01 -1.39564723e-01  1.14847377e-01  3.61632556e-02]\n",
            "   [-6.62001818e-02 -1.31567180e-01 -1.55979812e-01  1.28621861e-01\n",
            "     9.33224931e-02 -5.33249527e-02  1.83857325e-02  4.83508259e-02\n",
            "    -4.50769775e-02 -2.41706893e-02  7.87820816e-02 -2.81241746e-03\n",
            "    -1.30183101e-01 -3.99883650e-02  5.27521484e-02 -1.26432508e-01\n",
            "     8.75814632e-02  1.13122717e-01  2.44275499e-02 -1.03962392e-01\n",
            "     1.46322893e-02  4.80223112e-02 -5.93836419e-02  1.24455895e-02\n",
            "     1.04797762e-02 -8.08689520e-02 -1.78951249e-02 -2.47901306e-02\n",
            "     1.30796105e-01  3.03743649e-02 -6.97280765e-02  6.57780766e-02]\n",
            "   [-1.66662559e-02 -1.85269266e-02 -1.95722014e-01 -8.06138217e-02\n",
            "     1.43376946e-01 -2.95240115e-02 -5.63078187e-03 -1.18213333e-02\n",
            "     1.05810210e-01  1.32296324e-01  8.55224207e-02 -5.43536767e-02\n",
            "     1.77466888e-02  1.96974073e-02  1.35124400e-01 -1.17196590e-01\n",
            "     1.13764085e-01  8.02661106e-02 -6.72617778e-02 -1.10984884e-01\n",
            "    -3.88598852e-02  1.07652865e-01 -1.10823348e-01 -1.11495793e-01\n",
            "     1.49654523e-01 -5.70927896e-02 -6.47263452e-02  1.10336639e-01\n",
            "    -1.01015598e-01 -7.27087259e-02 -1.39511868e-01  2.68971045e-02]]\n",
            "\n",
            "  [[-1.11066587e-01 -1.03430515e-02  1.38341576e-01 -9.61423591e-02\n",
            "    -1.03986345e-01 -1.23837359e-01  3.62069085e-02 -1.24083124e-01\n",
            "    -1.21990874e-01  7.49047846e-02 -1.21474236e-01 -1.18673377e-01\n",
            "     1.39385343e-01 -2.90729832e-02 -1.12766726e-02 -9.05411988e-02\n",
            "     2.22480651e-02 -3.20325419e-02  5.89980409e-02 -1.57193802e-02\n",
            "     5.07207811e-02 -1.15065694e-01  1.77888889e-02  7.47994781e-02\n",
            "     9.48298424e-02 -9.90733132e-02 -3.11792381e-02 -2.59878933e-02\n",
            "    -3.32992375e-02  2.50065308e-02 -4.83142287e-02  1.25184283e-02]\n",
            "   [-7.92261437e-02 -1.38784289e-01 -8.51992741e-02  9.58272442e-02\n",
            "     4.90604751e-02 -6.68608844e-02 -1.03003509e-01 -1.51270941e-01\n",
            "    -9.71340835e-02  1.14884816e-01 -1.20564677e-01  8.00417364e-02\n",
            "    -3.89978327e-02 -1.05217896e-01 -9.12311766e-03 -1.20959327e-01\n",
            "     5.69301099e-02  1.16171129e-01  5.36938012e-02  1.08933896e-01\n",
            "    -8.05039406e-02  6.72873706e-02  9.24300179e-02  8.33533704e-02\n",
            "     3.71464007e-02  7.91710094e-02 -4.85400967e-02  2.85001360e-02\n",
            "    -1.27018139e-01 -4.35347334e-02 -2.60107964e-02 -1.23999510e-02]\n",
            "   [ 5.22099696e-02 -2.93645412e-02 -1.37798697e-01 -1.17503166e-01\n",
            "    -9.56263468e-02 -9.80911404e-02 -7.56647661e-02  1.04382165e-01\n",
            "     5.14243878e-02  1.23171076e-01  1.93541702e-02  6.95668533e-02\n",
            "    -1.10962361e-01 -1.06388673e-01  1.37778491e-01  1.54846627e-03\n",
            "    -6.99406564e-02  4.01429869e-02  3.06594763e-02 -4.20191549e-02\n",
            "    -2.39537321e-02 -3.40865627e-02 -9.55373049e-02  1.02708660e-01\n",
            "     2.82715093e-02  7.50956088e-02  1.84603885e-03  1.13792747e-01\n",
            "     1.03675492e-01 -1.01066291e-01  1.55111784e-02 -4.46938537e-02]]\n",
            "\n",
            "  [[-6.85768202e-02  5.85086904e-02 -7.66273513e-02  1.17035955e-02\n",
            "    -5.45531809e-02  5.56452610e-02  1.86965801e-02  1.04912475e-01\n",
            "     9.82771069e-02 -1.40980005e-01 -4.74412404e-02  1.36911452e-01\n",
            "     1.09917223e-01 -2.37681679e-02 -5.73666543e-02  3.56700383e-02\n",
            "    -1.37203583e-03 -9.19541419e-02  3.43795456e-02  1.47093609e-01\n",
            "     4.71838675e-02  5.76762185e-02 -3.53318565e-02  3.05596832e-02\n",
            "    -1.50939897e-01 -9.26176757e-02  9.85209569e-02 -8.00080672e-02\n",
            "     1.35971487e-01 -4.62203845e-02 -1.10312328e-01  6.45553917e-02]\n",
            "   [-1.06751889e-01  1.14913329e-01 -3.91476452e-02  4.78973649e-02\n",
            "     9.78374854e-02  6.72610477e-02  3.26845683e-02 -8.69146734e-03\n",
            "     1.02275304e-01  7.32903881e-03  5.00201397e-02  6.12641200e-02\n",
            "     6.88403621e-02  2.27202531e-02 -1.87595151e-02 -7.81252533e-02\n",
            "    -5.73864728e-02 -8.51793587e-02 -2.67269090e-02 -1.12545222e-01\n",
            "    -1.16290167e-01 -5.64721003e-02 -3.54447775e-02 -3.93044688e-02\n",
            "    -1.43495351e-01  1.11724972e-03  1.85238125e-04  1.66175123e-02\n",
            "     9.27714631e-02 -1.23977020e-01 -6.92960322e-02 -5.17510958e-02]\n",
            "   [ 4.04994823e-02 -9.64426473e-02 -1.84193596e-01 -1.51966006e-01\n",
            "    -1.24798231e-01  6.04619756e-02 -3.57604027e-02 -2.67546214e-02\n",
            "     1.74208470e-02 -1.05416432e-01 -1.32830534e-02 -1.18124440e-01\n",
            "    -1.41418174e-01 -9.09967050e-02  1.34454325e-01 -8.86817798e-02\n",
            "     8.59556794e-02 -1.62111055e-02  1.20996587e-01  7.45397434e-02\n",
            "     1.15824901e-01  2.16844529e-02 -1.39303855e-03  4.95272763e-02\n",
            "     4.20638965e-03 -9.25226361e-02 -8.48050863e-02 -1.19130455e-01\n",
            "    -1.12405494e-01  1.00794293e-01  6.44101575e-02 -1.06039800e-01]]]\n",
            "\n",
            "\n",
            " [[[ 2.51911301e-02 -7.30375573e-02  5.01054525e-02  2.96538677e-02\n",
            "    -3.96376960e-02 -8.43880624e-02  1.59281287e-02  6.06081523e-02\n",
            "     1.18753739e-01  2.40659565e-02 -1.16188645e-01  2.05853302e-02\n",
            "     5.09523191e-02 -4.15233262e-02  9.10974741e-02  2.66094902e-03\n",
            "     2.12359671e-02 -6.52425066e-02  1.30967172e-02 -4.34579849e-02\n",
            "     1.01520568e-02 -1.12072065e-01 -3.13642360e-02  5.46822101e-02\n",
            "     1.35352211e-02  3.80898565e-02 -3.54070775e-02 -8.69928747e-02\n",
            "    -4.28238027e-02 -1.41415179e-01 -7.61957765e-02  1.24157064e-01]\n",
            "   [ 4.03966308e-02  5.51405959e-02  3.09162773e-02 -9.27247927e-02\n",
            "     6.10183692e-03  7.00882217e-03  6.06967397e-02 -1.53677419e-01\n",
            "     8.31470490e-02 -3.46242078e-02 -1.17875338e-01  1.57062744e-03\n",
            "    -1.04469076e-01 -1.65544897e-01  3.76830585e-02  1.13892674e-01\n",
            "     6.42832741e-02 -4.46866825e-02  3.08785774e-02  4.99695130e-02\n",
            "    -8.22925791e-02  3.79842222e-02 -1.77601315e-02  6.06677793e-02\n",
            "    -1.06492877e-01  5.23479171e-02  8.45388845e-02  7.30688423e-02\n",
            "     5.05198687e-02 -1.54626787e-01  8.36738944e-02  1.22450208e-02]\n",
            "   [-2.49885991e-02  7.61161596e-02 -1.01568326e-01 -4.02954705e-02\n",
            "     4.54689227e-02 -3.88802178e-02  1.18091561e-01  4.50278074e-02\n",
            "    -1.32760808e-01  1.29152998e-01  1.33100942e-01  8.83462578e-02\n",
            "    -7.75437206e-02  6.79196566e-02 -3.31377909e-02  8.31357464e-02\n",
            "     1.08979873e-01  8.88286904e-03 -9.80400518e-02 -1.16430037e-01\n",
            "    -1.19931775e-03  4.12334688e-02 -8.07658434e-02 -1.44984961e-01\n",
            "    -5.68995886e-02  4.28500995e-02 -4.16806154e-02 -3.42093892e-02\n",
            "    -6.16833605e-02 -1.64164022e-01 -9.59403962e-02 -1.23706028e-01]]\n",
            "\n",
            "  [[-6.08839765e-02  1.20999649e-01  1.19292431e-01 -1.00001559e-01\n",
            "    -8.11108574e-02  3.59348133e-02 -3.95358652e-02 -1.06082529e-01\n",
            "     1.20067798e-01 -1.50406376e-01 -9.71454903e-02  1.23952806e-01\n",
            "    -2.58915010e-04 -1.13497272e-01  4.86932471e-02  4.62353826e-02\n",
            "    -7.42313564e-02 -7.56143630e-02 -1.35259226e-01 -1.17872870e-02\n",
            "     9.70871281e-03  6.00106940e-02  1.01221383e-01 -5.86529262e-02\n",
            "    -6.29209578e-02 -8.15525427e-02 -1.21825479e-01  8.18692520e-02\n",
            "     2.99212970e-02  1.82406995e-02  1.23938739e-01  2.70339008e-02]\n",
            "   [ 6.50336891e-02  1.11619040e-01  5.46416752e-02 -9.37174261e-02\n",
            "     7.03537762e-02 -5.43313101e-02  3.38664022e-03  3.14740911e-02\n",
            "     5.57843484e-02  7.55919293e-02  3.33990343e-02  8.92164186e-02\n",
            "     6.75621256e-02 -6.86783046e-02 -2.86919251e-02 -4.64901812e-02\n",
            "    -7.07918257e-02  1.73797030e-02 -9.69438776e-02  7.04913028e-03\n",
            "     8.57673120e-03  7.00091645e-02 -1.08250022e-01 -4.73946892e-02\n",
            "    -9.91521925e-02  3.44230458e-02 -1.04737513e-01  1.38647899e-01\n",
            "    -3.11309155e-02  2.80340593e-02  1.65566225e-02  1.09841123e-01]\n",
            "   [ 9.93933976e-02 -5.55073246e-02  5.55187389e-02 -1.15070909e-01\n",
            "     6.99982233e-03  1.23791344e-01 -1.28893837e-01  9.16802809e-02\n",
            "     7.13800266e-02  1.18052617e-01  1.27393186e-01  2.88430583e-02\n",
            "     3.28356698e-02 -1.53273121e-01 -4.38590674e-03 -2.70763431e-02\n",
            "     5.66357858e-02  8.68916735e-02 -1.87110640e-02 -1.72357131e-02\n",
            "    -1.57625359e-02  1.76111367e-02  9.38676223e-02 -1.11516211e-02\n",
            "    -2.40685903e-02  1.79882329e-02 -5.18327812e-03  2.81009395e-02\n",
            "    -1.42697729e-02 -9.10702497e-02  7.56272674e-02  4.53122072e-02]]\n",
            "\n",
            "  [[ 4.92076948e-02 -9.83251557e-02 -1.09847069e-01  9.99032781e-02\n",
            "     1.11318320e-01  4.99362834e-02 -1.50076440e-02  6.92035779e-02\n",
            "    -4.23435867e-02  9.95293856e-02  1.70672834e-02  1.92827508e-02\n",
            "    -4.80665080e-02 -1.22184411e-01 -7.89169446e-02 -1.21197447e-01\n",
            "     3.10198963e-02 -5.46545582e-03 -6.82186708e-02  7.38730505e-02\n",
            "    -9.55586731e-02 -3.73218358e-02  3.45635712e-02  3.45637128e-02\n",
            "    -4.37435545e-02  5.61575890e-02 -2.35983077e-02  4.20406610e-02\n",
            "    -1.28251150e-01 -1.45224884e-01 -1.03570111e-02 -2.81461962e-02]\n",
            "   [ 6.52269647e-02 -3.02037522e-02 -5.31055443e-02 -2.84072310e-02\n",
            "    -1.13453120e-01  3.84071283e-02 -7.64807407e-03 -3.76344472e-02\n",
            "     8.44177678e-02 -1.07230775e-01  1.38828367e-01  9.59127694e-02\n",
            "     5.49138263e-02 -1.04630649e-01  8.88367891e-02  1.13344304e-02\n",
            "    -5.47959171e-02  7.52289891e-02  1.04333021e-01 -3.05813979e-02\n",
            "    -4.99002449e-02  1.01453031e-03 -1.00499570e-01 -3.92282233e-02\n",
            "    -2.03274012e-01  1.07499108e-01  1.26310155e-01 -2.99489759e-02\n",
            "     1.11544982e-01 -1.04022324e-01  1.20233387e-01  1.08353019e-01]\n",
            "   [-9.12279487e-02  2.80210469e-03  3.23592536e-02 -1.01651646e-01\n",
            "    -2.63404418e-02  1.50137275e-01  1.15453318e-01 -1.23552918e-01\n",
            "    -4.54713367e-02 -6.68293014e-02 -1.08845383e-01 -4.10338528e-02\n",
            "    -1.17542349e-01  2.40665656e-02  1.29240111e-01 -9.92522389e-02\n",
            "     1.02424771e-01 -5.14828414e-02 -1.07219972e-01 -1.16104774e-01\n",
            "     7.92802200e-02 -3.97133082e-02  4.94881794e-02 -8.32144395e-02\n",
            "    -1.66679218e-01 -1.44696414e-01 -2.64120847e-02  1.57719269e-01\n",
            "    -3.06171384e-02  5.31582534e-02  1.02991790e-01 -6.98939860e-02]]]]\n",
            "biases [-2.5871795e-02  3.7170539e-03 -8.6448584e-03 -2.0527290e-02\n",
            " -1.1854821e-02  2.0565903e-02  6.3680289e-03 -2.4827956e-03\n",
            " -3.7446688e-03 -2.3268033e-02  4.7273742e-04  7.6525724e-03\n",
            "  1.5438214e-02  1.5896166e-02 -2.2174170e-02  1.5073087e-02\n",
            " -1.5460797e-02 -1.5412448e-02  3.0728470e-04  1.2051766e-02\n",
            " -1.4218231e-02  3.4105103e-04  1.0022925e-02  1.4303960e-03\n",
            "  1.8615546e-02 -2.8207533e-03  9.8654302e-03  5.9862924e-03\n",
            "  4.1180570e-03  3.0007059e-02  2.3830718e-05 -7.3774211e-04]\n",
            "conv2d_1 (3, 3, 32, 64)\n",
            "[[[[-2.90676840e-02 -4.42457153e-03  6.82635382e-02 ...  4.07484546e-03\n",
            "     4.91763875e-02 -7.22648576e-02]\n",
            "   [ 6.65987143e-04 -4.26900722e-02  4.52024117e-02 ...  6.87228963e-02\n",
            "     7.44964778e-02 -8.76685381e-02]\n",
            "   [ 9.90389585e-02 -1.11553213e-02 -3.68496105e-02 ... -4.97000944e-03\n",
            "     8.71340856e-02  7.61378035e-02]\n",
            "   ...\n",
            "   [ 5.30392863e-02 -2.25085858e-02 -7.94499591e-02 ... -7.28253275e-03\n",
            "    -7.66554056e-03  7.06374496e-02]\n",
            "   [ 8.02674741e-02  1.16752973e-02  4.60117273e-02 ... -4.31779325e-02\n",
            "    -3.86149324e-02 -1.19327027e-02]\n",
            "   [-5.99535778e-02 -4.73528877e-02 -1.33779179e-03 ...  2.71765497e-02\n",
            "     7.43127093e-02  1.10398456e-02]]\n",
            "\n",
            "  [[-2.72853281e-02  3.98701541e-02 -1.59064028e-02 ... -7.26108626e-02\n",
            "     8.24085549e-02  2.58946251e-02]\n",
            "   [-3.16458121e-02  2.51074806e-02  8.14008862e-02 ...  3.77700552e-02\n",
            "     5.03565930e-02 -3.22482400e-02]\n",
            "   [ 1.08747028e-01 -2.92746667e-02  8.92183278e-03 ... -6.25580475e-02\n",
            "     1.01766832e-01  5.72720468e-02]\n",
            "   ...\n",
            "   [-4.79304381e-02 -9.46944878e-02 -6.15855120e-02 ... -7.76747018e-02\n",
            "    -3.29043195e-02  3.55578996e-02]\n",
            "   [-2.94586141e-02  2.41454039e-02  4.26467583e-02 ...  6.45194724e-02\n",
            "    -5.56202941e-02  4.88741472e-02]\n",
            "   [ 1.04113538e-02 -2.91994493e-02 -3.69085111e-02 ... -4.59102616e-02\n",
            "    -4.38851258e-03  6.41985014e-02]]\n",
            "\n",
            "  [[-7.43717626e-02 -4.45935167e-02 -8.52043703e-02 ... -3.45855928e-03\n",
            "     1.71936098e-02 -8.42096880e-02]\n",
            "   [-1.46922395e-02  6.58280402e-02  7.57633895e-02 ... -6.89181834e-02\n",
            "     4.52699475e-02  1.39191588e-02]\n",
            "   [ 1.01120723e-02  1.63420483e-01 -4.20464352e-02 ...  6.64065704e-02\n",
            "     5.84736653e-02  1.30896568e-02]\n",
            "   ...\n",
            "   [-2.31018793e-02  1.16822422e-02  2.10961625e-02 ... -1.37150839e-01\n",
            "    -2.87962556e-02 -4.73979823e-02]\n",
            "   [ 6.77452162e-02 -5.79357089e-04  7.98204616e-02 ...  8.23073741e-03\n",
            "    -3.01249940e-02 -6.08720705e-02]\n",
            "   [-7.50554353e-02 -6.48373887e-02  7.34368712e-02 ...  1.82798167e-03\n",
            "     6.28674030e-02  5.73803335e-02]]]\n",
            "\n",
            "\n",
            " [[[-2.32441667e-02 -7.57064372e-02 -4.94510382e-02 ...  6.54264539e-02\n",
            "    -4.66318354e-02 -4.60683703e-02]\n",
            "   [-7.12801749e-03 -5.78930043e-02 -2.22071968e-02 ... -5.06143719e-02\n",
            "    -5.10383537e-03 -9.00783390e-02]\n",
            "   [ 9.86698642e-03 -3.89502496e-02 -1.69983096e-02 ... -1.10874325e-01\n",
            "    -6.42640665e-02 -5.07696681e-02]\n",
            "   ...\n",
            "   [-9.74474102e-02 -3.13519016e-02  5.79152554e-02 ...  2.42677443e-02\n",
            "     3.00944801e-02 -3.52811366e-02]\n",
            "   [ 1.17309600e-01  2.77087931e-02  6.20357990e-02 ... -5.00587188e-02\n",
            "    -4.03955899e-04  2.14193505e-03]\n",
            "   [-7.59414397e-03  6.27693161e-02 -2.24736915e-03 ...  5.38256280e-02\n",
            "     5.78396544e-02 -4.18421812e-02]]\n",
            "\n",
            "  [[-2.73382291e-02  3.40785906e-02 -4.58208984e-03 ... -2.02151276e-02\n",
            "     1.90847777e-02 -2.01148186e-02]\n",
            "   [ 1.17483316e-02  7.66337067e-02 -6.55182153e-02 ...  7.90488049e-02\n",
            "    -1.18110590e-02 -3.50438654e-02]\n",
            "   [ 6.47964925e-02 -2.44151056e-02 -3.90654765e-02 ...  2.43885182e-02\n",
            "     5.62030971e-02  1.11717088e-02]\n",
            "   ...\n",
            "   [-1.02123871e-01 -4.17859778e-02 -8.98744632e-03 ...  4.99729514e-02\n",
            "    -2.68571284e-02 -9.34959501e-02]\n",
            "   [ 8.92919227e-02  1.85732543e-02  4.26256619e-02 ... -2.44930182e-02\n",
            "    -1.73091479e-02  6.10219454e-03]\n",
            "   [-7.78468475e-02  3.49199697e-02 -8.11140761e-02 ...  6.59200698e-02\n",
            "     4.93127927e-02  4.08442765e-02]]\n",
            "\n",
            "  [[-5.61911874e-02 -2.32192390e-02 -3.69486772e-02 ... -6.78258613e-02\n",
            "    -7.98269734e-02 -1.83099024e-02]\n",
            "   [-4.80188150e-03 -5.31993583e-02  5.59137128e-02 ...  1.88387576e-02\n",
            "     9.08142477e-02  2.11986410e-03]\n",
            "   [ 3.29221562e-02  4.91477083e-03  7.52105564e-02 ... -4.94925380e-02\n",
            "     5.10090739e-02  4.36347835e-02]\n",
            "   ...\n",
            "   [-3.65331732e-02 -5.10645993e-02 -7.06526041e-02 ... -6.84015378e-02\n",
            "    -2.25763023e-02 -1.31666288e-01]\n",
            "   [ 6.15879707e-02 -5.15908338e-02  2.29061060e-02 ... -4.55584824e-02\n",
            "    -1.23482374e-02  8.28210358e-03]\n",
            "   [ 4.73976173e-02  5.14154844e-02  7.70351216e-02 ...  1.35663506e-02\n",
            "     8.70708078e-02  3.74804735e-02]]]\n",
            "\n",
            "\n",
            " [[[ 4.53684554e-02  3.39415707e-02  4.73029055e-02 ...  1.95115898e-02\n",
            "     2.85343025e-02  4.92029525e-02]\n",
            "   [-3.95839438e-02  6.96677119e-02 -5.90326376e-02 ...  4.81985364e-04\n",
            "    -6.46325126e-02 -5.79151884e-02]\n",
            "   [-9.21379030e-02  3.21027823e-02 -3.17575745e-02 ...  4.37021517e-04\n",
            "    -9.31247026e-02 -4.19199467e-03]\n",
            "   ...\n",
            "   [-1.10386200e-01 -3.84559389e-04  4.41902615e-02 ...  2.87740622e-02\n",
            "    -9.98096392e-02 -2.98831481e-02]\n",
            "   [-2.89462097e-02 -3.87408920e-02  7.36776516e-02 ... -3.69424894e-02\n",
            "     5.70672117e-02  1.54572409e-02]\n",
            "   [ 7.12489635e-02 -3.66960652e-02  4.15752493e-02 ...  5.88583313e-02\n",
            "    -1.60694458e-02 -6.61359206e-02]]\n",
            "\n",
            "  [[-7.83329234e-02 -5.86988404e-02 -9.38033015e-02 ...  8.23972076e-02\n",
            "    -4.30400707e-02 -1.77132934e-02]\n",
            "   [-7.28456005e-02  2.60383226e-02 -6.85780961e-03 ...  1.09575624e-02\n",
            "     1.80396829e-02 -2.61391024e-03]\n",
            "   [-5.70973828e-02  6.51305243e-02 -2.89026438e-03 ... -2.46955547e-02\n",
            "    -3.02338954e-02 -4.94557992e-02]\n",
            "   ...\n",
            "   [-9.52805579e-02  2.64797956e-02  2.93821357e-02 ...  3.55194733e-02\n",
            "     4.75352025e-03  6.17430843e-02]\n",
            "   [-2.33019311e-02  3.52094248e-02  6.52380735e-02 ... -5.81059456e-02\n",
            "     4.21858905e-03  5.92293078e-03]\n",
            "   [-3.24843936e-02  6.05673231e-02 -5.46380989e-02 ... -6.59589991e-02\n",
            "    -5.49070612e-02 -5.62783703e-02]]\n",
            "\n",
            "  [[ 4.48622275e-03  7.76499650e-03  5.70794456e-02 ... -4.44917791e-02\n",
            "     3.04255243e-02 -7.61305168e-02]\n",
            "   [ 6.17715046e-02  3.09247188e-02 -4.07234356e-02 ... -1.46334488e-02\n",
            "    -1.86409615e-02  4.21739407e-02]\n",
            "   [ 5.74519970e-02  2.78940219e-02 -1.66265368e-02 ...  9.27403122e-02\n",
            "    -8.93550552e-03  1.16446301e-01]\n",
            "   ...\n",
            "   [-1.21726273e-02  8.20268970e-03 -6.56502396e-02 ...  4.88545485e-02\n",
            "    -1.19768493e-01 -3.37346457e-02]\n",
            "   [ 1.09849898e-04  4.28544283e-02  7.69731263e-03 ...  1.61542613e-02\n",
            "     7.39527345e-02 -5.90167893e-03]\n",
            "   [ 3.87233496e-02 -2.14894321e-02  7.71547034e-02 ...  3.04641165e-02\n",
            "    -2.51250505e-03  3.03072855e-02]]]]\n",
            "biases [ 0.00337122  0.00445457 -0.00478296 -0.00839216 -0.00981442  0.01749355\n",
            "  0.02657619  0.01479531 -0.00835826  0.00254933 -0.00398461 -0.01160241\n",
            "  0.01101667  0.02259704 -0.00683848  0.01563068  0.01053375 -0.00743908\n",
            "  0.01354104  0.01541591  0.02209112 -0.00547845 -0.01452864 -0.00564899\n",
            "  0.00377605 -0.01095055  0.01918251 -0.01245715 -0.00420085  0.01383452\n",
            "  0.01609753  0.01363703  0.00867879  0.00340478 -0.00631868  0.00410237\n",
            "  0.01063192 -0.00282826  0.00358566 -0.00369069 -0.00365107  0.02614196\n",
            "  0.01610286  0.01160526  0.00337324 -0.01406822  0.00653647 -0.00116006\n",
            " -0.00130986  0.00258699 -0.00388031  0.00847983  0.00492524 -0.00838947\n",
            "  0.00102049 -0.01212787 -0.00884658  0.01985965 -0.01027472  0.00970234\n",
            "  0.00935823 -0.00418432  0.00829761 -0.01390106]\n",
            "conv2d_2 (3, 3, 64, 64)\n",
            "[[[[-0.04647083  0.00548418  0.02670867 ... -0.00945401 -0.03145974\n",
            "     0.00224481]\n",
            "   [ 0.0215594  -0.03404303  0.03284046 ... -0.04099488  0.0514915\n",
            "    -0.01440692]\n",
            "   [ 0.06406016 -0.07817388 -0.01659072 ...  0.04681541  0.00035589\n",
            "    -0.0362854 ]\n",
            "   ...\n",
            "   [ 0.01659396 -0.05886702 -0.00765378 ...  0.04176394 -0.06507793\n",
            "     0.02186384]\n",
            "   [-0.02663605  0.06985209  0.01211613 ... -0.00242733  0.03515618\n",
            "    -0.06586215]\n",
            "   [ 0.02433954 -0.02595328 -0.04774153 ...  0.05065307 -0.0827546\n",
            "    -0.04877725]]\n",
            "\n",
            "  [[-0.00279015 -0.06208312 -0.06307665 ...  0.01097151  0.02524696\n",
            "    -0.07139145]\n",
            "   [ 0.01143205  0.06502396  0.0776617  ... -0.03363944  0.03837549\n",
            "    -0.02925805]\n",
            "   [ 0.02300764 -0.0546567  -0.04256473 ... -0.0227039  -0.01569646\n",
            "    -0.00104944]\n",
            "   ...\n",
            "   [ 0.02378062 -0.08439453 -0.06460261 ... -0.03538537  0.00151004\n",
            "    -0.05795507]\n",
            "   [ 0.05523195  0.03276135 -0.00107114 ...  0.06285393 -0.03488118\n",
            "     0.02744648]\n",
            "   [ 0.05177625 -0.05165294 -0.05132785 ...  0.00811537 -0.01830515\n",
            "     0.04079231]]\n",
            "\n",
            "  [[-0.01429255 -0.10389197  0.04803556 ...  0.03424963  0.05636389\n",
            "    -0.02624145]\n",
            "   [ 0.06171899 -0.09443628  0.03418841 ...  0.07500415  0.04527336\n",
            "    -0.04129633]\n",
            "   [-0.0615795  -0.06611149 -0.02856854 ...  0.02739667  0.03644974\n",
            "    -0.03297982]\n",
            "   ...\n",
            "   [ 0.04063422 -0.04635273  0.06039508 ...  0.01212311 -0.04922846\n",
            "     0.01335702]\n",
            "   [ 0.05129461 -0.07950153  0.08142518 ...  0.04505717  0.00534706\n",
            "     0.00063584]\n",
            "   [ 0.00047301 -0.03285275 -0.03362877 ...  0.02459214 -0.02548397\n",
            "     0.04553569]]]\n",
            "\n",
            "\n",
            " [[[-0.06335835  0.11069404  0.05365433 ...  0.04813947  0.02972577\n",
            "     0.01746202]\n",
            "   [-0.00447689  0.0151612   0.05838037 ...  0.03449181  0.06654356\n",
            "    -0.02471876]\n",
            "   [-0.03492197 -0.10768149 -0.02853882 ... -0.03570078  0.06430696\n",
            "    -0.01369589]\n",
            "   ...\n",
            "   [-0.04192179  0.01997077 -0.02119482 ... -0.00527228 -0.01766569\n",
            "     0.032818  ]\n",
            "   [-0.07555014 -0.05772534 -0.04447051 ...  0.00572788 -0.05867923\n",
            "    -0.05738556]\n",
            "   [-0.00666102  0.07804111  0.02916971 ... -0.05230829 -0.04361714\n",
            "    -0.06209207]]\n",
            "\n",
            "  [[ 0.01439826  0.04110472 -0.06936699 ... -0.04252521  0.07013147\n",
            "     0.0210778 ]\n",
            "   [-0.02372052 -0.02334913 -0.05695666 ...  0.02475086  0.05635821\n",
            "     0.04439982]\n",
            "   [ 0.01664914 -0.0812503   0.04831883 ... -0.07702472  0.05591933\n",
            "     0.03951842]\n",
            "   ...\n",
            "   [ 0.01503291  0.04976828 -0.07042095 ... -0.07943249 -0.07226948\n",
            "    -0.06851744]\n",
            "   [ 0.04545529 -0.00668514  0.05985752 ...  0.03220125 -0.00512542\n",
            "     0.00758268]\n",
            "   [ 0.07647415 -0.0440738  -0.03256276 ... -0.08496115 -0.00141242\n",
            "    -0.00114187]]\n",
            "\n",
            "  [[-0.03465347  0.00959277  0.02108017 ...  0.02613726  0.04537565\n",
            "     0.06077074]\n",
            "   [ 0.03168661  0.04728763 -0.00546744 ... -0.0538089   0.07877275\n",
            "     0.04907208]\n",
            "   [ 0.06780238 -0.07364708  0.06279219 ...  0.0468679   0.02917485\n",
            "     0.0327546 ]\n",
            "   ...\n",
            "   [ 0.02319334 -0.06665168  0.01717151 ... -0.06345274  0.03387882\n",
            "    -0.04599608]\n",
            "   [ 0.00188321  0.0823968   0.04114356 ... -0.00254663 -0.00186111\n",
            "    -0.03448651]\n",
            "   [-0.01226793 -0.12038496  0.03608647 ... -0.03472358  0.01204277\n",
            "    -0.06993482]]]\n",
            "\n",
            "\n",
            " [[[ 0.02128143  0.08671785  0.04943531 ...  0.03228327 -0.00294752\n",
            "    -0.03024372]\n",
            "   [-0.0602242  -0.09986854 -0.0541605  ...  0.0853968  -0.04800291\n",
            "    -0.02114635]\n",
            "   [ 0.03268188 -0.0356746  -0.06034138 ... -0.02760582  0.05865053\n",
            "    -0.05122211]\n",
            "   ...\n",
            "   [ 0.05325896  0.04786704 -0.06451485 ... -0.04853746 -0.02520436\n",
            "    -0.04585058]\n",
            "   [-0.00052965 -0.00935873  0.06101724 ...  0.06725839 -0.03960788\n",
            "     0.05780214]\n",
            "   [ 0.01263664  0.11804388 -0.02302205 ...  0.02697385 -0.03903449\n",
            "    -0.07175662]]\n",
            "\n",
            "  [[ 0.01917761  0.04942091 -0.06432711 ... -0.00330145 -0.06598229\n",
            "     0.04852018]\n",
            "   [ 0.04335506 -0.07327928 -0.04162746 ...  0.06513139  0.05346156\n",
            "     0.05529524]\n",
            "   [ 0.07345292 -0.13518827  0.03783158 ...  0.00327993  0.00425279\n",
            "     0.00027618]\n",
            "   ...\n",
            "   [-0.00802742  0.11989345 -0.06376995 ... -0.00170689 -0.02559387\n",
            "    -0.05159855]\n",
            "   [ 0.01335391 -0.03139588  0.07545476 ... -0.02515618 -0.00387733\n",
            "     0.02426171]\n",
            "   [-0.05436822 -0.0013114   0.04531161 ...  0.0398151   0.00605785\n",
            "     0.00091308]]\n",
            "\n",
            "  [[-0.02350443 -0.03305625 -0.04859338 ... -0.05916536 -0.04523926\n",
            "     0.07398421]\n",
            "   [-0.06903923 -0.04576645 -0.03451494 ...  0.03634726  0.05713713\n",
            "     0.06405282]\n",
            "   [ 0.06379927  0.03570893 -0.00721008 ... -0.00540747  0.01945535\n",
            "     0.06992556]\n",
            "   ...\n",
            "   [-0.01487348 -0.05083164  0.04903571 ...  0.02335474 -0.07741879\n",
            "    -0.05685493]\n",
            "   [-0.007283   -0.07332502 -0.04445905 ...  0.04964706 -0.03067955\n",
            "     0.00568762]\n",
            "   [ 0.08296826 -0.075668    0.03143046 ... -0.06455871  0.01031979\n",
            "     0.03590978]]]]\n",
            "biases [ 0.00194606 -0.00556222  0.01621208  0.00915529 -0.00577286  0.00179152\n",
            " -0.00687833  0.00482648  0.00301005 -0.00251379  0.00768692  0.00660353\n",
            "  0.00114978  0.01150793 -0.00492821  0.00710783  0.00670816 -0.00810445\n",
            "  0.01031462  0.0264035   0.01060346 -0.00192215 -0.00817017  0.01175242\n",
            " -0.00105467 -0.00307297 -0.01621974  0.00202066  0.00700022  0.00901246\n",
            "  0.00566878  0.01067656  0.00072906 -0.00681851 -0.00119802 -0.01044932\n",
            "  0.00492667 -0.00343518  0.0056778   0.00590866  0.02759642 -0.00891268\n",
            "  0.0064983  -0.02837544  0.00705294  0.00033904  0.02215786 -0.00707204\n",
            "  0.00185731  0.00997632 -0.00969528  0.00819809 -0.00626703  0.01645688\n",
            "  0.00962656 -0.00914083  0.01054361  0.00161427  0.01455383  0.00511257\n",
            "  0.00124369  0.00809691  0.00806555 -0.00329626]\n",
            "conv2d_3 (3, 3, 64, 64)\n",
            "[[[[-3.4785207e-02 -2.1914026e-02 -4.1978054e-02 ...  4.9572840e-02\n",
            "    -6.2844336e-02 -5.6850627e-02]\n",
            "   [-7.9651913e-03 -1.7860226e-01 -7.2917454e-02 ...  1.2674433e-02\n",
            "     2.7162215e-02 -9.8705217e-02]\n",
            "   [ 5.3697381e-02 -3.5773251e-02 -5.0393976e-02 ... -5.1623397e-02\n",
            "    -6.4358532e-02 -3.7245743e-02]\n",
            "   ...\n",
            "   [ 5.7926495e-02  1.7692022e-02  2.7157249e-02 ...  4.6883594e-02\n",
            "    -2.6452485e-02 -3.8782634e-02]\n",
            "   [-4.3133959e-02  4.4007335e-02  2.7711805e-02 ... -2.5491226e-02\n",
            "     3.8610261e-02  3.7827324e-03]\n",
            "   [ 7.3194526e-02 -3.5468955e-02 -7.5862788e-02 ... -4.5448121e-02\n",
            "     2.2617660e-02 -5.0184309e-02]]\n",
            "\n",
            "  [[ 5.1888652e-02  3.5594936e-02  2.9195532e-02 ...  5.4096714e-02\n",
            "    -1.1973302e-02  1.6597112e-03]\n",
            "   [-4.9790878e-02 -3.8955830e-02 -3.6101382e-02 ... -4.7598485e-02\n",
            "    -8.2161985e-02 -3.7141629e-02]\n",
            "   [ 6.5284721e-03  3.7694760e-02  2.7678460e-02 ...  5.1792666e-02\n",
            "     4.9778678e-02  5.3376961e-02]\n",
            "   ...\n",
            "   [ 3.6499366e-02 -4.0324237e-02 -4.4228926e-02 ...  4.0527370e-02\n",
            "     2.3370666e-02  3.0488063e-02]\n",
            "   [ 3.1676318e-02  5.9420899e-02 -3.5215754e-02 ...  3.9025523e-02\n",
            "     1.1620552e-02  8.4131263e-02]\n",
            "   [ 1.2044081e-02 -1.2482061e-02 -1.9312415e-03 ...  1.5444848e-02\n",
            "     2.8911002e-03  6.9186926e-02]]\n",
            "\n",
            "  [[-4.1483235e-02  3.3001486e-02 -6.9592848e-02 ... -2.1842238e-02\n",
            "    -7.8596547e-02 -2.9785413e-02]\n",
            "   [ 1.0497482e-01  5.8102239e-02  5.0353937e-02 ...  5.7806638e-03\n",
            "    -1.3680850e-02  4.7377411e-02]\n",
            "   [ 7.1262419e-02 -2.8192805e-02  3.3645716e-02 ... -3.8939212e-02\n",
            "    -1.6855409e-02 -2.9240990e-02]\n",
            "   ...\n",
            "   [ 3.1611688e-02 -6.1707988e-02 -5.9640553e-02 ...  7.4461669e-02\n",
            "     1.0597153e-03 -5.5131428e-02]\n",
            "   [ 3.6949750e-02 -5.1537663e-02  3.0126495e-03 ...  7.1189776e-02\n",
            "    -5.1000575e-03  7.3591158e-02]\n",
            "   [ 5.1907603e-02 -6.5290906e-02  4.9681839e-02 ... -6.5978274e-02\n",
            "    -2.7635900e-02  2.3285167e-02]]]\n",
            "\n",
            "\n",
            " [[[-3.2077711e-02 -5.7652384e-02  1.8503806e-02 ... -1.1631437e-02\n",
            "    -4.9301911e-02 -1.0998306e-02]\n",
            "   [ 3.6853150e-02 -7.6703645e-02  4.5927957e-02 ...  9.2247240e-02\n",
            "     4.9065389e-02 -4.2839721e-02]\n",
            "   [ 4.3557130e-02  7.1292132e-02 -6.4041287e-02 ...  2.4577709e-02\n",
            "    -1.8910695e-02 -3.9487672e-03]\n",
            "   ...\n",
            "   [-4.2102937e-02  1.0860233e-02 -8.7759852e-02 ...  7.6658972e-02\n",
            "    -2.0759594e-02 -5.0330367e-02]\n",
            "   [ 2.1427147e-02 -5.4053561e-04  7.6238039e-06 ... -7.3014393e-02\n",
            "     1.7445836e-02  5.2290607e-02]\n",
            "   [-6.2714271e-02  1.1668336e-02  5.4332193e-02 ...  3.4852881e-02\n",
            "    -3.5993967e-02  4.7830804e-03]]\n",
            "\n",
            "  [[ 2.4946535e-04 -6.1606009e-02  3.0281300e-02 ... -7.3353916e-02\n",
            "    -6.9737229e-03  4.2765599e-02]\n",
            "   [-3.8606282e-02 -3.2359496e-02  5.5965077e-02 ...  9.4659820e-02\n",
            "     3.6168270e-02 -3.7503351e-02]\n",
            "   [ 6.5094784e-02 -3.4417987e-02 -4.3924328e-02 ...  5.5362885e-03\n",
            "    -6.7661102e-03  7.7897124e-03]\n",
            "   ...\n",
            "   [-4.1758534e-02 -8.5542621e-03  2.1338638e-02 ...  4.2133838e-02\n",
            "    -6.1893113e-02 -2.4012158e-02]\n",
            "   [-1.0796590e-02 -1.2230949e-02 -2.5287138e-02 ... -9.0015428e-03\n",
            "    -6.8396382e-02  1.2894016e-02]\n",
            "   [ 1.5888013e-02 -5.2751299e-02  5.6246560e-02 ...  4.0084273e-02\n",
            "    -1.7661060e-03  5.2948236e-02]]\n",
            "\n",
            "  [[ 7.4882354e-03 -5.0547142e-02  2.8875964e-02 ... -2.4816494e-02\n",
            "     3.8143780e-02  4.0339913e-02]\n",
            "   [ 6.1974462e-02 -3.6315922e-02  2.5443725e-02 ...  1.0137584e-01\n",
            "    -2.1668797e-02 -3.4651872e-02]\n",
            "   [ 1.6273111e-02  3.8245738e-02 -6.7245349e-02 ...  4.8723701e-02\n",
            "     2.2355361e-02  8.0546632e-02]\n",
            "   ...\n",
            "   [-4.2768735e-02 -4.3378830e-02 -3.0074939e-02 ...  6.6474825e-02\n",
            "    -2.3930954e-02  3.0961698e-02]\n",
            "   [-6.9624092e-03  4.3969121e-02 -7.4905679e-03 ...  9.3298458e-02\n",
            "    -4.8901893e-02  2.8454751e-02]\n",
            "   [ 3.8357887e-02  6.2301300e-02 -5.7630613e-02 ... -6.1018202e-02\n",
            "    -7.8039847e-02  3.5701104e-02]]]\n",
            "\n",
            "\n",
            " [[[-7.2209053e-02 -3.3614740e-02 -5.9614312e-02 ... -2.3045536e-02\n",
            "    -7.8695834e-02 -1.9701784e-02]\n",
            "   [ 6.9233321e-02  3.7669290e-02  1.5274928e-02 ...  4.4420566e-02\n",
            "     7.5466014e-03  8.1755988e-02]\n",
            "   [ 3.1531263e-02 -3.7523519e-02  4.7146413e-02 ...  3.8180515e-02\n",
            "     2.9845091e-02  5.3024307e-02]\n",
            "   ...\n",
            "   [ 7.1302071e-02 -7.0910208e-02  4.2397227e-02 ... -7.0826910e-02\n",
            "     3.8373280e-02 -1.6317733e-02]\n",
            "   [ 1.0067530e-03 -4.8369821e-02 -3.0276280e-02 ...  2.6956853e-03\n",
            "    -6.5639946e-03  3.8962860e-02]\n",
            "   [ 2.2648651e-02  2.5898239e-02  7.7938356e-02 ... -6.5017767e-02\n",
            "     6.0510773e-02 -4.0767066e-02]]\n",
            "\n",
            "  [[ 3.7537519e-02  5.0096665e-02 -7.2742634e-02 ... -6.7987239e-05\n",
            "    -7.1654670e-02 -5.4464587e-03]\n",
            "   [-9.7740944e-03 -3.0939117e-02  3.7774138e-02 ...  6.4100929e-02\n",
            "     1.8046087e-02 -3.0656323e-02]\n",
            "   [ 1.4055629e-02  6.0267381e-02 -3.4162108e-02 ...  2.0651912e-02\n",
            "    -2.9703250e-02  7.4427180e-02]\n",
            "   ...\n",
            "   [ 9.3686432e-03  6.6627383e-02 -6.7029819e-02 ... -6.4348400e-02\n",
            "     2.0719692e-02  5.8569439e-02]\n",
            "   [-2.0999203e-02  6.5814726e-02 -7.8211382e-02 ... -5.8879979e-02\n",
            "     4.9394373e-02  8.2527190e-02]\n",
            "   [ 5.0618049e-02  4.9487509e-02 -8.1990585e-02 ...  6.2447070e-04\n",
            "     3.4491926e-02 -4.6047360e-02]]\n",
            "\n",
            "  [[-5.0717946e-02  6.2902279e-02 -5.4902948e-02 ... -4.5866556e-02\n",
            "    -3.0129017e-02 -3.9990195e-03]\n",
            "   [-1.1894358e-01 -1.4560282e-01 -7.3731579e-02 ... -1.9523114e-02\n",
            "    -6.9341339e-02 -1.6431330e-02]\n",
            "   [ 3.7072815e-02 -4.0333714e-02 -2.1165060e-02 ...  5.4684974e-02\n",
            "     2.0737737e-02  5.7786912e-02]\n",
            "   ...\n",
            "   [ 3.7939474e-02  3.0666195e-02  8.7409019e-03 ...  3.4177009e-02\n",
            "    -5.4181956e-02 -5.9166037e-02]\n",
            "   [ 4.8663598e-02  2.7573900e-03 -4.9319506e-02 ...  5.4325040e-02\n",
            "     4.6434976e-02  8.0412820e-02]\n",
            "   [ 6.0339462e-02 -4.8019387e-02  7.9620378e-03 ...  3.7301714e-03\n",
            "    -4.5205127e-02  5.4137342e-02]]]]\n",
            "biases [-0.00218615 -0.00186049 -0.01855059  0.00623872  0.00627649 -0.00673953\n",
            " -0.01167867 -0.00959335 -0.01557809  0.01308531 -0.02985118  0.00601989\n",
            "  0.00979951  0.00978769 -0.01100417 -0.00163613  0.0062551   0.00287689\n",
            "  0.00223533 -0.00117093 -0.01287552  0.01620982 -0.00064209  0.01521048\n",
            "  0.00026864  0.01802065 -0.01011238 -0.00609818 -0.01312589  0.01532663\n",
            "  0.00111759 -0.00413845  0.00376983  0.0001737  -0.00221727  0.00075926\n",
            " -0.00923873 -0.00622838 -0.00276474  0.00024245 -0.00160914  0.01167867\n",
            " -0.00395032 -0.00218893  0.00956308  0.00460344 -0.00300364  0.02152453\n",
            "  0.00457992  0.00107131 -0.00920992 -0.00575045 -0.01315327 -0.00674174\n",
            " -0.00677613  0.00497185  0.02135332 -0.01821234 -0.0069518  -0.01270212\n",
            "  0.00784149  0.00114329 -0.00874255  0.00331431]\n",
            "conv2d_4 (3, 3, 64, 64)\n",
            "[[[[ 0.03247294  0.00239022 -0.01665546 ... -0.04766572 -0.06452554\n",
            "    -0.05772631]\n",
            "   [-0.0900075  -0.02953583 -0.00161177 ... -0.02535055  0.05602121\n",
            "    -0.04702477]\n",
            "   [ 0.02558332 -0.00229036  0.04378915 ... -0.08024018  0.00434163\n",
            "     0.06020617]\n",
            "   ...\n",
            "   [-0.0387858   0.00271039  0.06502903 ...  0.03646031 -0.02024713\n",
            "    -0.03973722]\n",
            "   [ 0.01904045 -0.04961677 -0.05253523 ... -0.03222144 -0.05753784\n",
            "     0.01131084]\n",
            "   [ 0.00380467 -0.01120588  0.05103158 ... -0.05558264 -0.07390605\n",
            "     0.02540473]]\n",
            "\n",
            "  [[-0.09822109  0.02400666 -0.01706745 ... -0.05420889 -0.00733978\n",
            "    -0.02857616]\n",
            "   [-0.01165362  0.03733749  0.00709478 ... -0.06793091 -0.00789795\n",
            "     0.04078469]\n",
            "   [ 0.00068352  0.07480407 -0.07928506 ... -0.01744716  0.00791753\n",
            "    -0.06787528]\n",
            "   ...\n",
            "   [-0.04051534  0.02967467  0.05139358 ...  0.04318402  0.01162088\n",
            "     0.00615409]\n",
            "   [-0.0723163  -0.0462817  -0.05567368 ...  0.02222753  0.05103891\n",
            "    -0.03590169]\n",
            "   [ 0.00312727 -0.01127015  0.04137812 ... -0.04981256  0.00159885\n",
            "    -0.01794336]]\n",
            "\n",
            "  [[ 0.05681387 -0.04209127 -0.00108998 ... -0.01630201  0.01442721\n",
            "     0.02172791]\n",
            "   [ 0.06289084 -0.03444554 -0.07564811 ...  0.05082673 -0.00313025\n",
            "    -0.05162337]\n",
            "   [ 0.04895172 -0.02364791 -0.02693216 ... -0.04441934  0.02425015\n",
            "     0.03392872]\n",
            "   ...\n",
            "   [ 0.00337495  0.02558628 -0.07247677 ... -0.00049732  0.01000035\n",
            "     0.05466188]\n",
            "   [ 0.01125389  0.01481003 -0.03429092 ...  0.01130314 -0.00112276\n",
            "    -0.03704681]\n",
            "   [ 0.00479629  0.06394996 -0.03403957 ...  0.05406551 -0.05668336\n",
            "    -0.04140782]]]\n",
            "\n",
            "\n",
            " [[[-0.01599244 -0.01062121 -0.02320862 ... -0.03281969 -0.03234527\n",
            "    -0.02678262]\n",
            "   [-0.06948157 -0.0424896   0.04048688 ... -0.03728013  0.02919776\n",
            "     0.02872935]\n",
            "   [-0.06616009  0.05107517 -0.0158342  ...  0.02693801 -0.0263251\n",
            "     0.03531147]\n",
            "   ...\n",
            "   [ 0.0420088   0.01436107  0.01169879 ...  0.00881936 -0.06438567\n",
            "     0.00139269]\n",
            "   [-0.0678193   0.0717741  -0.01396307 ...  0.05674893  0.00752856\n",
            "    -0.00464961]\n",
            "   [ 0.05406666 -0.01111111  0.03003055 ... -0.03835164  0.01302549\n",
            "    -0.03705833]]\n",
            "\n",
            "  [[-0.0774871  -0.06669613  0.00637226 ...  0.03498835 -0.02754846\n",
            "     0.06699191]\n",
            "   [ 0.023347    0.00856816 -0.05145472 ...  0.05014514 -0.07099156\n",
            "     0.01748583]\n",
            "   [-0.0641092   0.03557096 -0.04040443 ... -0.02832356 -0.06087586\n",
            "     0.06109987]\n",
            "   ...\n",
            "   [ 0.04336414 -0.04951192 -0.05507357 ... -0.0208224  -0.04577539\n",
            "     0.01687987]\n",
            "   [-0.03628197  0.01461871 -0.03649307 ...  0.05822409  0.00817285\n",
            "     0.05742506]\n",
            "   [-0.06189479 -0.016031   -0.00930722 ... -0.00793829  0.01859448\n",
            "     0.08338156]]\n",
            "\n",
            "  [[ 0.0122454   0.05214087  0.02890418 ... -0.06980491 -0.01436038\n",
            "     0.07205602]\n",
            "   [ 0.01345994  0.01247639 -0.05671515 ... -0.03115644 -0.03146208\n",
            "     0.01197688]\n",
            "   [ 0.02761695 -0.04463643 -0.02384159 ... -0.02571529 -0.00443909\n",
            "    -0.01440208]\n",
            "   ...\n",
            "   [-0.0043132  -0.03569475  0.04678696 ... -0.04397947 -0.05924289\n",
            "    -0.01544101]\n",
            "   [ 0.06201284  0.05835631 -0.04940367 ...  0.02373001 -0.01228417\n",
            "     0.04544989]\n",
            "   [ 0.0036888   0.03530613 -0.0358856  ...  0.03516401 -0.05996804\n",
            "     0.04297643]]]\n",
            "\n",
            "\n",
            " [[[-0.05245742 -0.0157422  -0.04274733 ... -0.0306571   0.05693574\n",
            "    -0.02199248]\n",
            "   [ 0.0542489  -0.07156868  0.03224394 ... -0.02471285  0.02932448\n",
            "     0.05110771]\n",
            "   [-0.06033127 -0.058782    0.06150979 ... -0.01521278  0.04756975\n",
            "     0.0539851 ]\n",
            "   ...\n",
            "   [-0.0216868  -0.02256813  0.01274294 ... -0.0171769  -0.07553831\n",
            "     0.02413625]\n",
            "   [-0.00291575  0.03204119  0.00293435 ...  0.04736934 -0.00596575\n",
            "     0.01183082]\n",
            "   [ 0.03997611 -0.03409939 -0.05168929 ... -0.06026645  0.00398435\n",
            "     0.06870016]]\n",
            "\n",
            "  [[ 0.03558874 -0.06344797  0.03162288 ...  0.03620927  0.00339306\n",
            "    -0.02798404]\n",
            "   [-0.06784789  0.0442515   0.05138447 ... -0.03890501 -0.0699046\n",
            "     0.02438208]\n",
            "   [ 0.0519992   0.05171753 -0.02495992 ... -0.03424504  0.00877261\n",
            "    -0.0196802 ]\n",
            "   ...\n",
            "   [-0.07251975 -0.05576148 -0.01446301 ... -0.0300304   0.00458709\n",
            "     0.02993893]\n",
            "   [ 0.00831922  0.01268486 -0.04801144 ... -0.04160342 -0.06045076\n",
            "    -0.01071622]\n",
            "   [-0.0140719   0.01735751 -0.03503096 ... -0.06464282 -0.03654395\n",
            "     0.03108015]]\n",
            "\n",
            "  [[-0.08867101 -0.01362876  0.06664243 ... -0.00433518  0.00157103\n",
            "     0.02133003]\n",
            "   [ 0.0271868   0.06428206  0.09968057 ...  0.0120318  -0.01272381\n",
            "     0.06608836]\n",
            "   [ 0.03847727  0.02581009 -0.07045979 ...  0.00817844  0.010259\n",
            "     0.00580485]\n",
            "   ...\n",
            "   [-0.03238977 -0.00234272  0.05878342 ...  0.02094978 -0.07859719\n",
            "     0.06817553]\n",
            "   [-0.00635968 -0.0258411   0.00310696 ...  0.03797644 -0.02281143\n",
            "    -0.01396591]\n",
            "   [-0.03720847 -0.00675714  0.01561776 ...  0.04845724  0.01185011\n",
            "     0.06483749]]]]\n",
            "biases [-1.69051550e-02  2.00472344e-02 -8.51844251e-03 -5.99260675e-03\n",
            " -8.67904443e-03 -1.44778029e-03 -5.00846095e-03 -1.03313075e-02\n",
            " -9.35180113e-03  1.76602695e-02 -8.73096380e-03  6.49709813e-03\n",
            "  2.29038168e-02  1.93675123e-02 -3.25046177e-03  1.98956244e-02\n",
            " -6.79057278e-03 -2.00404152e-02 -8.06204975e-03 -6.94476720e-03\n",
            " -8.10009334e-03 -1.28722722e-02 -5.53428568e-03  1.86490733e-02\n",
            " -9.31098685e-03  6.91682240e-03 -9.66827292e-03 -3.63628124e-03\n",
            "  2.11432390e-02  2.98397150e-02 -6.00501662e-03 -1.36221608e-03\n",
            " -2.99935769e-02  2.50388752e-04  4.39875154e-03 -9.38361045e-03\n",
            " -6.90918125e-04  1.03189908e-02 -1.01875355e-02  3.69553901e-02\n",
            "  4.86298557e-03 -3.02690617e-03 -3.41550284e-03  8.29822093e-04\n",
            "  4.93548904e-03 -1.14886165e-02 -8.31781421e-03  3.08893509e-02\n",
            " -5.99990040e-03 -6.67436142e-03  2.93865055e-02 -2.27004066e-02\n",
            " -6.19712332e-03 -3.66027048e-03  5.58247211e-06 -4.05263761e-03\n",
            " -2.34614369e-02 -7.42429355e-03 -6.83460897e-03 -2.21112240e-02\n",
            " -2.24344805e-03  2.75773369e-02 -8.02283920e-03 -1.82361845e-02]\n",
            "conv2d_5 (3, 3, 64, 64)\n",
            "[[[[ 0.03310635  0.03474981 -0.05301999 ... -0.03502066  0.03768628\n",
            "     0.02025061]\n",
            "   [-0.04872567  0.06828739 -0.0122824  ...  0.03797181  0.05450952\n",
            "     0.00193415]\n",
            "   [-0.00046781  0.05208166 -0.06122186 ...  0.02084472  0.03008503\n",
            "    -0.05303684]\n",
            "   ...\n",
            "   [-0.04914242 -0.04031355 -0.06619608 ...  0.06317014 -0.01463461\n",
            "    -0.02471023]\n",
            "   [ 0.00827535 -0.05012739  0.05179503 ...  0.00332968  0.06944347\n",
            "     0.01470655]\n",
            "   [ 0.01543681 -0.01729881  0.05808022 ... -0.02610053 -0.05939166\n",
            "    -0.00983042]]\n",
            "\n",
            "  [[ 0.0344968   0.0333853   0.01664704 ... -0.06174329  0.06267609\n",
            "    -0.04838668]\n",
            "   [-0.05983703 -0.07556934 -0.03938128 ... -0.0611052  -0.02927377\n",
            "     0.03310373]\n",
            "   [-0.0265075   0.01958027 -0.00499406 ...  0.03994605 -0.00360805\n",
            "    -0.05362519]\n",
            "   ...\n",
            "   [-0.07700414  0.02684173 -0.04283325 ... -0.0280064  -0.07306031\n",
            "    -0.00383087]\n",
            "   [-0.07371091  0.03958606  0.00881699 ... -0.01516247 -0.06282055\n",
            "    -0.06387164]\n",
            "   [ 0.06275955 -0.04671451 -0.02321163 ... -0.05106845 -0.04200954\n",
            "     0.05720713]]\n",
            "\n",
            "  [[-0.01645737  0.04239776 -0.03390877 ... -0.04798894 -0.0579599\n",
            "    -0.05696157]\n",
            "   [ 0.03263313  0.00859239  0.01503016 ... -0.04143839 -0.08153176\n",
            "    -0.04388887]\n",
            "   [ 0.04422801 -0.05867001  0.07591132 ... -0.07879195 -0.09018341\n",
            "    -0.05698533]\n",
            "   ...\n",
            "   [-0.02010862 -0.0756053  -0.0477575  ... -0.02928453  0.03146762\n",
            "    -0.04642787]\n",
            "   [-0.06989338  0.03933203  0.06730298 ... -0.05725216  0.06980113\n",
            "     0.00291025]\n",
            "   [ 0.06157433 -0.01264    -0.0614031  ... -0.02156472 -0.06811536\n",
            "    -0.03618841]]]\n",
            "\n",
            "\n",
            " [[[-0.03012102  0.0702488  -0.01334878 ... -0.03968045  0.03879122\n",
            "    -0.02987419]\n",
            "   [-0.06519574 -0.05073563 -0.01080931 ... -0.03519247  0.00734443\n",
            "    -0.04805011]\n",
            "   [ 0.04745252 -0.07111273 -0.005984   ...  0.05145585 -0.07438859\n",
            "     0.04086994]\n",
            "   ...\n",
            "   [-0.01322551 -0.02864681  0.00078842 ... -0.00983712  0.00592477\n",
            "     0.02380162]\n",
            "   [-0.00849011  0.07812495  0.0573214  ... -0.01643816 -0.02742765\n",
            "    -0.05117635]\n",
            "   [ 0.01683261 -0.01903378  0.00721997 ...  0.02006924 -0.02031359\n",
            "     0.03309626]]\n",
            "\n",
            "  [[ 0.01067989 -0.03083143 -0.05798477 ... -0.05900772  0.07835934\n",
            "    -0.01972621]\n",
            "   [ 0.03025109  0.03442189 -0.03769606 ... -0.08345591 -0.03908052\n",
            "     0.01350946]\n",
            "   [ 0.06621238  0.02370396 -0.03887688 ... -0.00044521 -0.06125146\n",
            "    -0.05450509]\n",
            "   ...\n",
            "   [ 0.05852769  0.06522888 -0.04129386 ...  0.04632644 -0.07625186\n",
            "    -0.0758808 ]\n",
            "   [ 0.02232881  0.02498475  0.01550196 ... -0.04717221 -0.05843578\n",
            "     0.04000884]\n",
            "   [-0.01726183 -0.00975799 -0.00845378 ... -0.0005826  -0.06849445\n",
            "     0.02173004]]\n",
            "\n",
            "  [[-0.07729378  0.06566942 -0.00333374 ...  0.02106065  0.07151323\n",
            "    -0.00895275]\n",
            "   [ 0.04933117 -0.02554882  0.05202513 ... -0.06226044 -0.0018457\n",
            "    -0.00149263]\n",
            "   [ 0.02077669 -0.04758405  0.07929526 ...  0.05276293 -0.04674449\n",
            "    -0.02176408]\n",
            "   ...\n",
            "   [-0.06057842 -0.05756266  0.0247419  ... -0.07617036 -0.01134454\n",
            "     0.0042632 ]\n",
            "   [-0.02156171  0.01824673  0.02433791 ... -0.06508177 -0.04834306\n",
            "     0.03953923]\n",
            "   [ 0.01953702  0.06494039  0.08892816 ... -0.00442205 -0.03650241\n",
            "    -0.02304625]]]\n",
            "\n",
            "\n",
            " [[[ 0.00297669 -0.0277405   0.06302396 ...  0.06871697 -0.05014942\n",
            "     0.03952172]\n",
            "   [ 0.0303649   0.02473266  0.00161902 ...  0.02627419  0.00260277\n",
            "     0.03150941]\n",
            "   [-0.05568691  0.0800325   0.07227198 ...  0.02226494  0.02949085\n",
            "     0.05275836]\n",
            "   ...\n",
            "   [ 0.02006935 -0.01690345 -0.03985879 ...  0.03445895 -0.04145933\n",
            "     0.05352484]\n",
            "   [ 0.01705659  0.06844311 -0.06916162 ...  0.05244209 -0.04056437\n",
            "    -0.00383699]\n",
            "   [ 0.03811751  0.0313206  -0.0130099  ...  0.04472134 -0.09922975\n",
            "    -0.06261902]]\n",
            "\n",
            "  [[-0.00710601 -0.04550009  0.01493893 ...  0.06759246 -0.04882903\n",
            "     0.03759026]\n",
            "   [-0.04865431 -0.02161274 -0.0147211  ...  0.05341532 -0.05945042\n",
            "    -0.00873022]\n",
            "   [-0.00893504 -0.09174936 -0.02220154 ... -0.07235986 -0.05200185\n",
            "    -0.01981119]\n",
            "   ...\n",
            "   [-0.0281152   0.05941233 -0.03630366 ...  0.03513087  0.05059629\n",
            "     0.03147297]\n",
            "   [-0.02646248 -0.0039233   0.00729857 ...  0.00507869  0.01282223\n",
            "     0.07042955]\n",
            "   [ 0.05488539 -0.06759379  0.06713561 ... -0.04131519  0.01132889\n",
            "     0.02950059]]\n",
            "\n",
            "  [[-0.03956805 -0.00284729  0.05031736 ... -0.04822613 -0.07394887\n",
            "    -0.05404902]\n",
            "   [ 0.0465791   0.05464448 -0.04362115 ...  0.012053    0.04198033\n",
            "    -0.0222907 ]\n",
            "   [ 0.05047576 -0.03254925 -0.00083829 ... -0.04301523  0.01273824\n",
            "    -0.00081252]\n",
            "   ...\n",
            "   [-0.07460257  0.04714292 -0.05558803 ... -0.00025316  0.03122721\n",
            "    -0.07552844]\n",
            "   [ 0.004911    0.02840581  0.03288344 ...  0.05054907 -0.06544342\n",
            "     0.00632717]\n",
            "   [-0.01272073 -0.12122923  0.06076124 ... -0.02177229 -0.0950945\n",
            "     0.05673246]]]]\n",
            "biases [-0.02298367  0.00505752 -0.00462728 -0.01529723 -0.01868576 -0.01384527\n",
            " -0.02545091 -0.01815335 -0.00714386 -0.0116658  -0.0210271  -0.0173807\n",
            " -0.0055976  -0.00930852 -0.01183028 -0.00724184 -0.02795735 -0.01130668\n",
            " -0.00621272 -0.02081213 -0.01239428  0.04234067 -0.00662691  0.02983646\n",
            " -0.00933006 -0.0169332  -0.01650887 -0.02464686 -0.03114284 -0.012248\n",
            " -0.00631448 -0.0250548  -0.02287861 -0.01517787  0.04182835 -0.015119\n",
            " -0.02375019 -0.00839443 -0.02781916 -0.00878039 -0.00880631  0.03509457\n",
            " -0.0066345  -0.02313499 -0.00624652 -0.00670383 -0.00600499  0.02583565\n",
            " -0.01635493 -0.01447107  0.00084885 -0.01755486  0.02756792  0.04205249\n",
            " -0.00755473 -0.00569943 -0.00630986  0.03988123  0.05058688 -0.0189198\n",
            " -0.01510726 -0.00944825 -0.0242329  -0.01636502]\n"
          ]
        }
      ],
      "source": [
        "for layer in model.layers:\n",
        "  if 'conv' not in layer.name:\n",
        "    continue\n",
        "  else:\n",
        "    filters, biases = layer.get_weights()\n",
        "    print(layer.name,filters.shape)\n",
        "    print(filters)\n",
        "    print('biases',biases)"
      ]
    },
    {
      "cell_type": "code",
      "execution_count": null,
      "metadata": {
        "id": "ZR6rhDZGB0jy"
      },
      "outputs": [],
      "source": [
        "#vgg model\n",
        "import tensorflow as tf\n",
        "from tensorflow.keras import models, layers, applications\n",
        "\n",
        "vgg_model = applications.VGG16(weights = 'imagenet', include_top = False, input_shape = (256,256,3))\n",
        "n_classes = 2\n",
        "\n",
        "vgg_model = models.Sequential([\n",
        "    resize_and_rescale,\n",
        "    data_augmentation,\n",
        "    vgg_model,\n",
        "    layers.Flatten(),\n",
        "    layers.Dense(64, activation = 'relu'),\n",
        "    layers.Dense(n_classes, activation = 'softmax')\n",
        "])\n"
      ]
    },
    {
      "cell_type": "code",
      "execution_count": null,
      "metadata": {
        "id": "tLkaWrg3B0gk"
      },
      "outputs": [],
      "source": [
        "vgg_model.compile(optimizer='adam', loss='sparse_categorical_crossentropy', metrics=['accuracy'])\n",
        "vgg_history = vgg_model.fit(train_data, epochs=50, batch_size=30, verbose=1, validation_data=validation_data)\n"
      ]
    },
    {
      "cell_type": "code",
      "execution_count": null,
      "metadata": {
        "colab": {
          "base_uri": "https://localhost:8080/"
        },
        "id": "CymnWeACB0dg",
        "outputId": "7fdec42b-383b-4f8c-97ad-8f7af1e9ea0e"
      },
      "outputs": [
        {
          "name": "stdout",
          "output_type": "stream",
          "text": [
            "5/5 [==============================] - 31s 715ms/step - loss: 0.6945 - accuracy: 0.4488\n"
          ]
        }
      ],
      "source": [
        "vgg_scores = vgg_model.evaluate(test_data)\n"
      ]
    },
    {
      "cell_type": "code",
      "execution_count": null,
      "metadata": {
        "id": "32uXHpaqB0aq"
      },
      "outputs": [],
      "source": [
        "#resnet50\n",
        "resnet50_model = applications.ResNet50(weights = 'imagenet', include_top = False, input_shape = (256,256,3))\n",
        "n_classes = 2\n",
        "\n",
        "resnet50_model = models.Sequential([\n",
        "    resize_and_rescale,\n",
        "    data_augmentation,\n",
        "    resnet50_model,\n",
        "    layers.Flatten(),\n",
        "    layers.Dense(64, activation = 'relu'),\n",
        "    layers.Dense(n_classes, activation = 'softmax')\n",
        "])\n",
        "resnet50_model.compile(optimizer='adam', loss='sparse_categorical_crossentropy', metrics=['accuracy'])\n",
        "resnet50_history = resnet50_model.fit(train_data, epochs=50, batch_size=30, verbose=1, validation_data=validation_data)\n"
      ]
    },
    {
      "cell_type": "code",
      "execution_count": null,
      "metadata": {
        "colab": {
          "base_uri": "https://localhost:8080/"
        },
        "id": "lC0id9LKB0Xn",
        "outputId": "148eea53-6372-4c14-c20e-e4ed9a333188"
      },
      "outputs": [
        {
          "name": "stdout",
          "output_type": "stream",
          "text": [
            "5/5 [==============================] - 2s 346ms/step - loss: 0.2814 - accuracy: 0.9370\n"
          ]
        }
      ],
      "source": [
        "resnet50_scores = resnet50_model.evaluate(test_data)"
      ]
    },
    {
      "cell_type": "code",
      "execution_count": null,
      "metadata": {
        "id": "kQUUhJU9B0U4"
      },
      "outputs": [],
      "source": [
        "#InceptionV3\n",
        "\n",
        "InceptionV3_model = applications.InceptionV3(weights = 'imagenet', include_top = False, input_shape = (256,256,3))\n",
        "n_classes = 2\n",
        "\n",
        "InceptionV3_model = models.Sequential([\n",
        "    resize_and_rescale,\n",
        "    data_augmentation,\n",
        "    InceptionV3_model,\n",
        "    layers.Flatten(),\n",
        "    layers.Dense(64, activation = 'relu'),\n",
        "    layers.Dense(n_classes, activation = 'softmax')\n",
        "])\n",
        "\n",
        "\n",
        "InceptionV3_model.compile(optimizer='adam', loss='sparse_categorical_crossentropy', metrics=['accuracy'])\n",
        "InceptionV3_history = InceptionV3_model.fit(train_data, epochs=50, batch_size=30, verbose=1, validation_data=validation_data)"
      ]
    },
    {
      "cell_type": "code",
      "execution_count": null,
      "metadata": {
        "colab": {
          "base_uri": "https://localhost:8080/"
        },
        "id": "ufPcq8PPB0SM",
        "outputId": "740b3c5e-fcfb-4983-8f28-535e6a5d9954"
      },
      "outputs": [
        {
          "name": "stdout",
          "output_type": "stream",
          "text": [
            "5/5 [==============================] - 2s 518ms/step - loss: 0.4269 - accuracy: 0.8031\n"
          ]
        }
      ],
      "source": [
        "InceptionV3_scores = InceptionV3_model.evaluate(test_data)"
      ]
    },
    {
      "cell_type": "code",
      "execution_count": null,
      "metadata": {
        "id": "bE0TKLbwd3mv"
      },
      "outputs": [],
      "source": [
        "import numpy as np"
      ]
    },
    {
      "cell_type": "code",
      "execution_count": null,
      "metadata": {
        "id": "Qh4aO_6Y9_-3"
      },
      "outputs": [],
      "source": [
        "# for images, labels in test_data.take(1):\n",
        "#   first_image = images[0].numpy().astype('uint8')\n",
        "#   first_label = labels[0].numpy()\n",
        "first_image = tf.keras.preprocessing.image.load_img('/content/image-22.jpg',target_size= (256,256))\n",
        "print('first image to predict')\n",
        "plt.imshow(first_image)\n",
        "# print('first_image actual label :', class_names[first_label])\n",
        "print('predicted : ',class_names[np.argmax(model.predict(images)[0])])"
      ]
    },
    {
      "cell_type": "code",
      "execution_count": null,
      "metadata": {
        "id": "TByj-4NjAlT7"
      },
      "outputs": [],
      "source": [
        "# # featuer_image = tf.keras.preprocessing.image.load_img(,target_size= (256,256))\n",
        "# for images, labels in test_data.take(1):\n",
        "#   image = images[0].numpy().astype('uint8')\n",
        "#   featuer_image_array = tf.keras.preprocessing.image.img_to_array(image)\n",
        "\n",
        "#   desired_layer_output = model.layers[-3].output\n",
        "#   activation_model = tf.keras.Model(inputs = model.input, outputs = desired_layer_output)\n",
        "#   activations = activation_model.predict(images)[0]\n",
        "#   plt.imshow(activations[0,:,:, 0], cmap = 'viridis' )\n",
        "#   plt.show()"
      ]
    },
    {
      "cell_type": "code",
      "execution_count": null,
      "metadata": {
        "id": "C9E1aJnhc95O"
      },
      "outputs": [],
      "source": [
        "# import matplotlib.pyplot as plt\n",
        "# import tensorflow as tf\n",
        "\n",
        "# def visualize_layers(model, image):\n",
        "#     # Convert the image to the required format\n",
        "#     image_array = tf.expand_dims(image, axis=0)\n",
        "\n",
        "#     # Create a list to store activations for each layer\n",
        "#     layer_activations = []\n",
        "\n",
        "#     # Iterate over each layer in the model\n",
        "#     skip_layers = 0\n",
        "#     for layer in model.layers:\n",
        "#         try:\n",
        "#             activation_model = tf.keras.Model(inputs=model.input, outputs=layer.output)\n",
        "#             _ = activation_model.predict(image_array)\n",
        "#         except ValueError:\n",
        "#             skip_layers += 1\n",
        "#         else:\n",
        "#             break\n",
        "#     for layer in model.layers[skip_layers:]:\n",
        "#         # Define a model that outputs activations from the current layer\n",
        "#         activation_model = tf.keras.Model(inputs=model.input, outputs=layer.output)\n",
        "\n",
        "#         # Get activations for the image\n",
        "#         activations = activation_model.predict(image_array)\n",
        "\n",
        "#         # Store activations for the current layer\n",
        "#         layer_activations.append(activations)\n",
        "\n",
        "#     # Visualize activations for each layer\n",
        "#     for i, activation in enumerate(layer_activations):\n",
        "#         plt.figure()\n",
        "#         plt.title(f'Layer {i+1}')\n",
        "\n",
        "#         # For simplicity, show only the first activation map if available\n",
        "#         if len(activation.shape) == 4:\n",
        "#             plt.imshow(activation[0, :, :, 0], cmap='viridis')\n",
        "#         elif len(activation.shape) == 2:\n",
        "#             plt.imshow(activation, cmap='viridis')\n",
        "\n",
        "#         plt.axis('off')\n",
        "#         plt.show()\n",
        "\n",
        "# # Assuming 'model' is defined earlier\n",
        "# # Load and preprocess the image\n",
        "# image_path = '/content/image-22.jpg'\n",
        "# image = tf.keras.preprocessing.image.load_img(image_path, target_size=(256, 256))\n",
        "# image = tf.keras.preprocessing.image.img_to_array(image)\n",
        "# image = image / 255.0  # Normalize pixel values to [0, 1]\n",
        "\n",
        "# # Visualize how the image is processed in each layer of the model\n",
        "# visualize_layers(model, image)\n"
      ]
    },
    {
      "cell_type": "code",
      "execution_count": null,
      "metadata": {
        "id": "YAlDyXnNzPou"
      },
      "outputs": [],
      "source": [
        "# dataset = '/content/drive/MyDrive/major/Data set'\n",
        "# classes = {'affected' : 1, 'non affected' : 0}\n",
        "# images = []\n",
        "# labels = []\n",
        "# for cls in classes:\n",
        "#   path = '/content/drive/MyDrive/major/Data set/'+cls\n",
        "#   for image in os.listdir(path):\n",
        "#     images.append(cv2.imread(path + '/' + image , 1))\n",
        "#     labels.append(classes[cls])"
      ]
    },
    {
      "cell_type": "code",
      "execution_count": null,
      "metadata": {
        "id": "sVa9PY689k0U"
      },
      "outputs": [],
      "source": [
        "# train_size = 0.8\n",
        "# print(len(dataset)*train_size)\n",
        "# train_dataset = dataset.take(8)\n",
        "# print(len(train_dataset))\n",
        "# test_dataset = dataset.skip(8)\n",
        "# print(len(test_dataset))\n",
        "# val_size = 0.1\n",
        "# print(len(dataset)*val_size)\n",
        "# val_dataset = test_dataset.take(1)\n",
        "# print(len(val_dataset))\n",
        "# test_dataset = test_dataset.skip(1)\n",
        "# print(len(test_dataset))"
      ]
    },
    {
      "cell_type": "code",
      "execution_count": null,
      "metadata": {
        "id": "gWKIdKDRc-Cv"
      },
      "outputs": [],
      "source": []
    },
    {
      "cell_type": "code",
      "execution_count": null,
      "metadata": {
        "id": "2yktv1TUHVbh"
      },
      "outputs": [],
      "source": [
        "resize_and_rescale = tf.keras.Sequential(\n",
        "    [\n",
        "        layers.experimental.preprocessing.Resizing(256, 256),\n",
        "        layers.experimental.preprocessing.Rescaling(1.0/255)\n",
        "    ]\n",
        ")"
      ]
    },
    {
      "cell_type": "code",
      "execution_count": null,
      "metadata": {
        "id": "1PZ9nOTCc-FZ"
      },
      "outputs": [],
      "source": []
    },
    {
      "cell_type": "code",
      "execution_count": null,
      "metadata": {
        "id": "Erc-amf7HVfN"
      },
      "outputs": [],
      "source": [
        "data_augmentation = tf.keras.Sequential(\n",
        "    [\n",
        "        layers.experimental.preprocessing.RandomFlip('horizontal_and_vertical'),\n",
        "        layers.experimental.preprocessing.RandomRotation(0.2),\n",
        "    ]\n",
        ")"
      ]
    },
    {
      "cell_type": "code",
      "execution_count": null,
      "metadata": {
        "id": "JOkVAhWZ01q8"
      },
      "outputs": [],
      "source": [
        "# import matplotlib.pyplot as plt\n",
        "# import tensorflow as tf\n",
        "\n",
        "# def visualize_layers(model, image):\n",
        "#     # Convert the image to the required format\n",
        "#     image_array = tf.expand_dims(image, axis=0)\n",
        "\n",
        "#     # Create a list to store activations for each layer\n",
        "#     layer_activations = []\n",
        "\n",
        "#     # Determine the index of the first layer that does not cause disconnection\n",
        "#     skip_layers = 0\n",
        "#     for layer in model.layers:\n",
        "#         try:\n",
        "#             activation_model = tf.keras.Model(inputs=model.input, outputs=layer.output)\n",
        "#             _ = activation_model.predict(image_array)\n",
        "#         except ValueError:\n",
        "#             skip_layers += 1\n",
        "#         else:\n",
        "#             break\n",
        "\n",
        "#     # Iterate over each layer in the model, starting from the first layer that does not cause disconnection\n",
        "#     for layer in model.layers[skip_layers:]:\n",
        "#         # Define a model that outputs activations from the current layer\n",
        "#         activation_model = tf.keras.Model(inputs=model.input, outputs=layer.output)\n",
        "\n",
        "#         # Get activations for the image\n",
        "#         activations = activation_model.predict(image_array)\n",
        "\n",
        "#         # Store activations for the current layer\n",
        "#         layer_activations.append(activations)\n",
        "\n",
        "#     # Visualize activations for each layer\n",
        "#     for i, activation in enumerate(layer_activations):\n",
        "#         plt.figure()\n",
        "#         plt.title(f'Layer {i+skip_layers+1}')  # Start counting from the first layer that does not cause disconnection\n",
        "\n",
        "#         # For simplicity, show only the first activation map if available\n",
        "#         if len(activation.shape) == 4:\n",
        "#             plt.imshow(activation[0, :, :, 0], cmap='viridis')\n",
        "#         elif len(activation.shape) == 2:\n",
        "#             plt.imshow(activation, cmap='viridis')\n",
        "\n",
        "#         plt.axis('off')\n",
        "#         plt.show()\n",
        "\n",
        "# # Assuming 'model' and 'test_data' are defined earlier\n",
        "# for images, labels in test_data.take(1):\n",
        "#     visualize_layers(model, images[0])\n"
      ]
    },
    {
      "cell_type": "code",
      "execution_count": null,
      "metadata": {
        "id": "Rx1jgX7a-ACH"
      },
      "outputs": [],
      "source": []
    }
  ],
  "metadata": {
    "colab": {
      "provenance": [],
      "gpuType": "T4",
      "include_colab_link": true
    },
    "kernelspec": {
      "display_name": "Python 3",
      "name": "python3"
    },
    "language_info": {
      "name": "python"
    },
    "accelerator": "GPU"
  },
  "nbformat": 4,
  "nbformat_minor": 0
}